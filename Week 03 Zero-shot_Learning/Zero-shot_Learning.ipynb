{
 "cells": [
  {
   "cell_type": "markdown",
   "id": "69c2c795f9886316",
   "metadata": {
    "slideshow": {
     "slide_type": "slide"
    }
   },
   "source": [
    "## Zero-Shot Learning \n",
    "\n",
    "http://github.com/jedt\n"
   ]
  },
  {
   "cell_type": "markdown",
   "id": "01369dbf",
   "metadata": {
    "slideshow": {
     "slide_type": "slide"
    }
   },
   "source": [
    "**What is Zero-shot learning?**\n",
    "\n",
    "* A concept in machine learning\n",
    "* A variant of transfer learning\n",
    "* Few-shot = few labels\n",
    "* One-shot = very few labes - \"Hard\"\n",
    "* Zero-shot = zero training labels - \"Very Hard\""
   ]
  },
  {
   "cell_type": "markdown",
   "id": "a9c316b2a477067a",
   "metadata": {
    "slideshow": {
     "slide_type": "slide"
    }
   },
   "source": [
    "## Zero-shot has no concrete definition\n",
    "*  Model architectures\n",
    "*  Series of Tasks\n",
    "*  Generalize well to new data"
   ]
  },
  {
   "cell_type": "markdown",
   "id": "5d886003e8be2b18",
   "metadata": {
    "slideshow": {
     "slide_type": "slide"
    }
   },
   "source": [
    "# Problem Areas\n",
    "*   Cost of hiring Annotators or Labelers\n",
    "*   No large text corpus available\n",
    "*   Computer vision \n",
    "    * Fine tune a model every new hire?\n",
    "*   Speech recognition   \n",
    "    * Layering background noise\n",
    "    * Formant Shifts\n",
    "*   Toxic language like hate speech needs to be labeled regularly"
   ]
  },
  {
   "cell_type": "markdown",
   "id": "13d3cb9b",
   "metadata": {
    "slideshow": {
     "slide_type": "slide"
    }
   },
   "source": [
    "## Dr. Maria Carter\n",
    "\n",
    "**Background:**\n",
    "Dr. Maria Carter, a seasoned medical practitioner with 15+ years' experience, seeks efficient ways to manage medical transcripts amidst her demanding schedule.\n",
    "\n",
    "| #  | Goals                     | Description                                                                                             |\n",
    "|----|---------------------------|---------------------------------------------------------------------------------------------------------|\n",
    "| 1  | Workflow Efficiency       | Dr. Carter aims to automate initial transcript analysis to prioritize patient care and decision-making. |\n",
    "| 2  | Accurate Recommendations  | Reliable medical suggestions are crucial for informed decisions; the chatbot must grasp complex medical terms. |\n",
    "| 3  | Time Optimization         | With a busy routine, quick access to relevant insights is essential to enhance patient care.               |\n",
    "| 4  | Zero-Shot Learning        | Dr. Carter's interest lies in a chatbot employing zero-shot learning, adapting to various medical contexts. |"
   ]
  },
  {
   "cell_type": "markdown",
   "id": "7bf057873c7d5e44",
   "metadata": {
    "slideshow": {
     "slide_type": "slide"
    }
   },
   "source": [
    "## Zero-Shot Learning\n",
    "\n",
    "Train a recommendation model that uses natural language and can generalize to new transcript records using a chat interface\n",
    "\n",
    "**Requirements:**\n",
    "* Download a large text Corpus and train a new classifier model from scratch\n",
    "* Pre-trained classifier or LLM \n"
   ]
  },
  {
   "cell_type": "markdown",
   "id": "daf2a626",
   "metadata": {
    "slideshow": {
     "slide_type": "slide"
    }
   },
   "source": [
    "## What is zero-shot learning?\n",
    "\n",
    "Most often referred to a fairly specific type of task:\n",
    "\n",
    "* Learn a classifier for a set of classes, \n",
    "* Then use that classifier on a new set of classes without any additional training.     \n"
   ]
  },
  {
   "cell_type": "markdown",
   "id": "4c192300d9e007a3",
   "metadata": {
    "slideshow": {
     "slide_type": "slide"
    }
   },
   "source": [
    "**More broadly, in Machine Learning/NLP recently it can also mean:**\n",
    "\n",
    "* Get a pre-trained model to do something that it wasn't explicitly trained to do without fine-tuning it on the new task\n",
    "\n",
    "$P(X|\\hat{y}) == Y$ \n",
    "\n",
    "$P(A) == B$\n",
    "\n",
    "\n",
    "**This is sounds too hard and confusing**\n",
    "* You optimize on one objective but your main target is another objective\n"
   ]
  },
  {
   "cell_type": "markdown",
   "id": "cf79ae798035642a",
   "metadata": {
    "slideshow": {
     "slide_type": "slide"
    }
   },
   "source": [
    "## OpenAI GPT-2\n",
    "\n",
    "The researchers showed that the new and improved GPT model could perform zero-shot learning (ZSL), meaning it could achieve good performance on many tasks without any fine-tuning.\n",
    " \n",
    "* \"Who wrote the book the origin of species?\" Charles Darwin\n",
    "* \"Who is the founder of the ubuntu project?\" Mark Shuttleworth\n",
    "* None of these questions appear in WebText \n",
    "\n",
    "A Géron  Hands-On Machine Learning with Scikit-Learn, Keras, and TensorFlow (p. 1006). O'Reilly Media. Kindle Edition. "
   ]
  },
  {
   "cell_type": "markdown",
   "id": "1d2bc39c341ccec0",
   "metadata": {
    "slideshow": {
     "slide_type": "slide"
    }
   },
   "source": [
    "**OpenAI WebText is a proprietary crawled dataset from 45M links from Reddit**\n",
    "which did not have *\"Who wrote the book the origin of species\"*\n",
    "\n",
    "**Hypothesis: Simulations** \n",
    "* GPT2 Zero-shot is a task inside an architecture\n",
    "* Something that has generative natural language capabilities from a large corpus\n",
    "* Simulates a human-like conversation \n",
    "* That somehow it trains itself/or n new models to do few-shot learning tasks\n",
    "* A metric for the synthetic conversation and training labels created from zero-shot learning\n",
    "\n"
   ]
  },
  {
   "cell_type": "markdown",
   "id": "1dfcc0f8",
   "metadata": {
    "slideshow": {
     "slide_type": "slide"
    }
   },
   "source": [
    "Speculations on how much synthetic data OpenAI used to train GPT2 7:30\n",
    "\n",
    "https://www.youtube.com/watch?v=unotid_qTbw"
   ]
  },
  {
   "cell_type": "code",
   "execution_count": 5,
   "id": "934aff016094f33c",
   "metadata": {
    "ExecuteTime": {
     "end_time": "2023-09-03T16:09:19.301795Z",
     "start_time": "2023-09-03T16:09:01.465679Z"
    },
    "slideshow": {
     "slide_type": "slide"
    }
   },
   "outputs": [
    {
     "name": "stderr",
     "output_type": "stream",
     "text": [
      "All PyTorch model weights were used when initializing TFGPT2LMHeadModel.\n",
      "\n",
      "All the weights of TFGPT2LMHeadModel were initialized from the PyTorch model.\n",
      "If your task is similar to the task the model of the checkpoint was trained on, you can already use TFGPT2LMHeadModel for predictions without further training.\n"
     ]
    }
   ],
   "source": [
    "# Use a pipeline as a high-level helper\n",
    "from transformers import pipeline\n",
    "\n",
    "pipe_gpt = pipeline(\"text-generation\", model=\"gpt2-large\")"
   ]
  },
  {
   "cell_type": "code",
   "execution_count": 7,
   "id": "15d986f6b8ab3fec",
   "metadata": {
    "slideshow": {
     "slide_type": "slide"
    }
   },
   "outputs": [
    {
     "name": "stderr",
     "output_type": "stream",
     "text": [
      "Setting `pad_token_id` to `eos_token_id`:50256 for open-end generation.\n"
     ]
    },
    {
     "name": "stdout",
     "output_type": "stream",
     "text": [
      "[{'generated_text': 'the book origin of the species was written by ??????)\\n\\n\\nBaron Farkas:\\n\\n\\nMy theory is that that book came out in the past and was just not allowed into the public eye. We never read the original because'}]\n"
     ]
    }
   ],
   "source": [
    "#generate text\n",
    "print(pipe_gpt(\"the book origin of the species was written by \", max_length=50, num_return_sequences=1))"
   ]
  },
  {
   "cell_type": "code",
   "execution_count": 1,
   "id": "ad49000bd534cf21",
   "metadata": {
    "ExecuteTime": {
     "end_time": "2023-09-02T21:46:39.290347Z",
     "start_time": "2023-09-02T21:46:39.282294Z"
    },
    "slideshow": {
     "slide_type": "slide"
    }
   },
   "outputs": [
    {
     "name": "stdout",
     "output_type": "stream",
     "text": [
      "[{'generated_text': 'the book origin of the species was written by vernacular Indian poet-historian Dandakaranya,\" I met up with him to learn his little-known and much-coveted story and I have to add that, as was'}]\n"
     ]
    }
   ],
   "source": [
    "print([{'generated_text': 'the book origin of the species was written by vernacular Indian poet-historian Dandakaranya,\" I met up with him to learn his little-known and much-coveted story and I have to add that, as was'}])"
   ]
  },
  {
   "cell_type": "markdown",
   "id": "f15088bcbbb92cf4",
   "metadata": {
    "slideshow": {
     "slide_type": "slide"
    }
   },
   "source": [
    "## In Essence\n",
    "\n",
    "$x$ = \"Who wrote the book the origin of species?\"\n",
    "\n",
    "$\\hat{y} = f(x)$ = Large Text Corpus -> Transformer -> Zero-shot -> NL generated answer\n",
    "\n",
    "Some generative natural language tools\n",
    "\n",
    "* Tiktokken\n",
    "* SentencePiece"
   ]
  },
  {
   "cell_type": "markdown",
   "id": "7686a9e9cf7686b1",
   "metadata": {
    "slideshow": {
     "slide_type": "slide"
    }
   },
   "source": [
    "## Since Zero shot has \"no concrete definition\"\n",
    "\n",
    "**What value this concept gives us?**\n",
    "\n",
    "* Efficiently generalize well to new data\n",
    "* Accurately labels new data with small training data \n",
    "  * fine-tuning is not required\n",
    "* Generative in nature\n",
    "  * Can be used for data augmentation\n",
    "* When you tried regularization and it didn't work\n",
    "* Dropout, L1, L2, Early stopping, etc.\n"
   ]
  },
  {
   "cell_type": "markdown",
   "id": "16cd7189",
   "metadata": {
    "slideshow": {
     "slide_type": "slide"
    }
   },
   "source": [
    "# Let's Simplify Zero-shot learning"
   ]
  },
  {
   "cell_type": "code",
   "execution_count": null,
   "id": "c500a581",
   "metadata": {
    "slideshow": {
     "slide_type": "slide"
    }
   },
   "outputs": [],
   "source": []
  },
  {
   "cell_type": "code",
   "execution_count": 2,
   "id": "06c9ca79",
   "metadata": {
    "ExecuteTime": {
     "end_time": "2023-09-02T21:47:39.072369Z",
     "start_time": "2023-09-02T21:47:38.983933Z"
    }
   },
   "outputs": [
    {
     "ename": "NameError",
     "evalue": "name 'pipeline' is not defined",
     "output_type": "error",
     "traceback": [
      "\u001b[0;31m---------------------------------------------------------------------------\u001b[0m",
      "\u001b[0;31mNameError\u001b[0m                                 Traceback (most recent call last)",
      "Cell \u001b[0;32mIn [2], line 1\u001b[0m\n\u001b[0;32m----> 1\u001b[0m classifier \u001b[38;5;241m=\u001b[39m \u001b[43mpipeline\u001b[49m(\u001b[38;5;124m\"\u001b[39m\u001b[38;5;124mzero-shot-classification\u001b[39m\u001b[38;5;124m\"\u001b[39m,\n\u001b[1;32m      2\u001b[0m                       model\u001b[38;5;241m=\u001b[39m\u001b[38;5;124m\"\u001b[39m\u001b[38;5;124mfacebook/bart-large-mnli\u001b[39m\u001b[38;5;124m\"\u001b[39m, multi_label\u001b[38;5;241m=\u001b[39m\u001b[38;5;28;01mTrue\u001b[39;00m)\n",
      "\u001b[0;31mNameError\u001b[0m: name 'pipeline' is not defined"
     ]
    }
   ],
   "source": [
    "classifier = pipeline(\"zero-shot-classification\",\n",
    "                      model=\"facebook/bart-large-mnli\", multi_label=True)"
   ]
  },
  {
   "cell_type": "code",
   "execution_count": 4,
   "id": "63a028517f80562",
   "metadata": {
    "ExecuteTime": {
     "end_time": "2023-09-02T19:05:32.009614Z",
     "start_time": "2023-09-02T19:05:32.004866Z"
    }
   },
   "outputs": [],
   "source": [
    "# Using pre-trained word embeddings\n",
    "# https://keras.io/examples/nlp/pretrained_word_embeddings/\n",
    "# Text classification on the Newsgroup20 dataset using pre-trained GloVe word embeddings.\n",
    "# Input a novel sentence \n",
    "# and output:\n",
    "# ['talk.religion.misc', 'comp.windows.x', 'comp.sys.ibm.pc.hardware', \n",
    "# 'alt.atheism', 'rec.motorcycles', 'sci.space', 'talk.politics.misc', \n",
    "# 'rec.sport.hockey', 'talk.politics.guns', 'comp.graphics', 'rec.autos', \n",
    "# 'misc.forsale', 'sci.med', 'sci.crypt', 'sci.electronics', \n",
    "# 'comp.sys.mac.hardware', 'soc.religion.christian', 'comp.os.ms-windows.misc', \n",
    "# 'talk.politics.mideast', 'rec.sport.baseball']\n",
    "\n",
    "from transformers import pipeline"
   ]
  },
  {
   "cell_type": "code",
   "execution_count": 5,
   "id": "290462bd1617bc07",
   "metadata": {
    "ExecuteTime": {
     "end_time": "2023-09-02T19:05:40.673433Z",
     "start_time": "2023-09-02T19:05:32.999505Z"
    }
   },
   "outputs": [
    {
     "name": "stderr",
     "output_type": "stream",
     "text": [
      "Some weights of the PyTorch model were not used when initializing the TF 2.0 model TFBartForSequenceClassification: ['model.encoder.version', 'model.decoder.version']\n",
      "- This IS expected if you are initializing TFBartForSequenceClassification from a PyTorch model trained on another task or with another architecture (e.g. initializing a TFBertForSequenceClassification model from a BertForPreTraining model).\n",
      "- This IS NOT expected if you are initializing TFBartForSequenceClassification from a PyTorch model that you expect to be exactly identical (e.g. initializing a TFBertForSequenceClassification model from a BertForSequenceClassification model).\n",
      "All the weights of TFBartForSequenceClassification were initialized from the PyTorch model.\n",
      "If your task is similar to the task the model of the checkpoint was trained on, you can already use TFBartForSequenceClassification for predictions without further training.\n"
     ]
    }
   ],
   "source": []
  },
  {
   "cell_type": "code",
   "execution_count": 6,
   "id": "8679be8ff5970ede",
   "metadata": {
    "ExecuteTime": {
     "end_time": "2023-09-02T19:05:42.985384Z",
     "start_time": "2023-09-02T19:05:40.660346Z"
    }
   },
   "outputs": [
    {
     "name": "stdout",
     "output_type": "stream",
     "text": [
      "{'sequence': 'How do I make friends?', 'labels': ['knowledge-based', 'objective', 'factual'], 'scores': [0.3771112859249115, 0.020045965909957886, 0.006746804341673851]}\n"
     ]
    }
   ],
   "source": [
    "pre_test_data = classifier(\"How do I make friends?\", \n",
    "          [\"factual\", \"knowledge-based\", \"objective\"]\n",
    ")\n",
    "\n",
    "print(pre_test_data)"
   ]
  },
  {
   "cell_type": "code",
   "execution_count": 7,
   "id": "15836ed01fc1b468",
   "metadata": {
    "ExecuteTime": {
     "end_time": "2023-09-02T19:05:48.257263Z",
     "start_time": "2023-09-02T19:05:45.068566Z"
    }
   },
   "outputs": [
    {
     "name": "stdout",
     "output_type": "stream",
     "text": [
      "{'sequence': \"Intel Corporation (commonly known as Intel) is an American multinational corporation and technology company headquartered in Santa Clara, California. It is one of the world's largest semiconductor chip manufacturer by revenue,[3][4] and is one of the developers of the x86 series of instruction sets found in most personal computers (PCs). Incorporated in Delaware,[5] Intel ranked No. 45 in the 2020 Fortune 500 list of the largest United States corporations by total revenue for nearly a decade, from 2007 to 2016 fiscal years.[6]\", 'labels': ['knowledge-based', 'factual', 'objective'], 'scores': [0.769160270690918, 0.5936468839645386, 0.5607870817184448]}\n"
     ]
    }
   ],
   "source": [
    "pre_test_data = classifier(\"Intel Corporation (commonly known as Intel) is an American multinational corporation and technology company headquartered in Santa Clara, California. It is one of the world's largest semiconductor chip manufacturer by revenue,[3][4] and is one of the developers of the x86 series of instruction sets found in most personal computers (PCs). Incorporated in Delaware,[5] Intel ranked No. 45 in the 2020 Fortune 500 list of the largest United States corporations by total revenue for nearly a decade, from 2007 to 2016 fiscal years.[6]\", \n",
    "          [\"factual\", \"knowledge-based\", \"objective\"]\n",
    ")\n",
    "\n",
    "print(pre_test_data)"
   ]
  },
  {
   "cell_type": "code",
   "execution_count": 8,
   "id": "a54b30bef7cf32a0",
   "metadata": {
    "ExecuteTime": {
     "end_time": "2023-09-02T19:06:05.302037Z",
     "start_time": "2023-09-02T19:05:48.258465Z"
    }
   },
   "outputs": [],
   "source": [
    "test_data = classifier(\"Intel Corporation (commonly known as Intel) is an American multinational corporation and technology company headquartered in Santa Clara, California. It is one of the world's largest semiconductor chip manufacturer by revenue,[3][4] and is one of the developers of the x86 series of instruction sets found in most personal computers (PCs). Incorporated in Delaware,[5] Intel ranked No. 45 in the 2020 Fortune 500 list of the largest United States corporations by total revenue for nearly a decade, from 2007 to 2016 fiscal years.[6]\", \n",
    "          [\"Academia and Education\",\n",
    "            \"Arts and Entertainment\",\n",
    "            \"Business and Economics\",\n",
    "            \"Computers and Technology\",\n",
    "            \"Health and Medicine\",\n",
    "            \"Law and Government\",\n",
    "            \"Lifestyle\",\n",
    "            \"Nature and Environment\",\n",
    "            \"Religion and Spirituality\",\n",
    "            \"Science and Mathematics\",\n",
    "            \"Social Issues and Ethics\",\n",
    "            \"Sports and Physical Activities\",\n",
    "            \"News and Media\",\n",
    "            \"Hobbies and Interests\",\n",
    "            \"Transportation and Infrastructure\",\n",
    "            \"Miscellaneous\"\n",
    "        ]\n",
    ")"
   ]
  },
  {
   "cell_type": "code",
   "execution_count": 9,
   "id": "e54041c003c42fbc",
   "metadata": {
    "ExecuteTime": {
     "end_time": "2023-09-02T19:06:05.308155Z",
     "start_time": "2023-09-02T19:06:05.302877Z"
    }
   },
   "outputs": [
    {
     "name": "stdout",
     "output_type": "stream",
     "text": [
      "{'sequence': \"Intel Corporation (commonly known as Intel) is an American multinational corporation and technology company headquartered in Santa Clara, California. It is one of the world's largest semiconductor chip manufacturer by revenue,[3][4] and is one of the developers of the x86 series of instruction sets found in most personal computers (PCs). Incorporated in Delaware,[5] Intel ranked No. 45 in the 2020 Fortune 500 list of the largest United States corporations by total revenue for nearly a decade, from 2007 to 2016 fiscal years.[6]\", 'labels': ['Computers and Technology', 'Business and Economics', 'Social Issues and Ethics', 'Law and Government', 'Lifestyle', 'Hobbies and Interests', 'Science and Mathematics', 'Health and Medicine', 'Sports and Physical Activities', 'Religion and Spirituality', 'Transportation and Infrastructure', 'Nature and Environment', 'Academia and Education', 'News and Media', 'Miscellaneous', 'Arts and Entertainment'], 'scores': [0.9772196412086487, 0.46464166045188904, 0.3748275637626648, 0.28504493832588196, 0.1875823587179184, 0.17728428542613983, 0.1337500512599945, 0.11512231081724167, 0.07832332700490952, 0.062195129692554474, 0.06150844693183899, 0.04396534338593483, 0.022403694689273834, 0.004533207509666681, 0.003670044708997011, 0.0015752119943499565]}\n"
     ]
    }
   ],
   "source": [
    "print(test_data)"
   ]
  },
  {
   "cell_type": "code",
   "execution_count": 10,
   "id": "43bac70a1a9fc2b3",
   "metadata": {
    "ExecuteTime": {
     "end_time": "2023-09-02T19:06:05.724509Z",
     "start_time": "2023-09-02T19:06:05.306346Z"
    }
   },
   "outputs": [
    {
     "data": {
      "image/png": "[encoded data removed]",
      "text/plain": [
       "<Figure size 1000x500 with 1 Axes>"
      ]
     },
     "metadata": {},
     "output_type": "display_data"
    }
   ],
   "source": [
    "import matplotlib.pyplot as plt\n",
    "# extract the labels and scores from the data\n",
    "labels = test_data['labels']\n",
    "scores = test_data['scores']\n",
    "\n",
    "# create a scatter plot\n",
    "plt.figure(figsize=(10,5))\n",
    "plt.scatter(labels, scores)\n",
    "plt.xticks(rotation=90)  # rotate x labels for better readability\n",
    "plt.xlabel('Labels')\n",
    "plt.ylabel('Scores')\n",
    "plt.title('Scores for each Label')\n",
    "plt.show()"
   ]
  },
  {
   "cell_type": "code",
   "execution_count": 10,
   "id": "f0ed8df2d1d8b11d",
   "metadata": {
    "ExecuteTime": {
     "end_time": "2023-09-02T19:06:05.726812Z",
     "start_time": "2023-09-02T19:06:05.724700Z"
    }
   },
   "outputs": [],
   "source": []
  },
  {
   "cell_type": "code",
   "execution_count": 11,
   "id": "4a1b05c6ae5b3464",
   "metadata": {
    "ExecuteTime": {
     "end_time": "2023-09-02T19:06:07.347174Z",
     "start_time": "2023-09-02T19:06:05.727356Z"
    }
   },
   "outputs": [
    {
     "name": "stdout",
     "output_type": "stream",
     "text": [
      "{'sequence': 'Who wrote the book the origin of species?', 'labels': ['knowledge-based', 'factual'], 'scores': [0.9521422982215881, 0.0432523712515831]}\n"
     ]
    }
   ],
   "source": [
    "pre_test_data = classifier(\"Who wrote the book the origin of species?\", \n",
    "          [\"factual\", \"knowledge-based\"]\n",
    ")\n",
    "print(pre_test_data)"
   ]
  },
  {
   "cell_type": "code",
   "execution_count": 12,
   "id": "e37efec5f2680748",
   "metadata": {
    "ExecuteTime": {
     "end_time": "2023-09-02T19:06:07.352132Z",
     "start_time": "2023-09-02T19:06:07.347695Z"
    }
   },
   "outputs": [
    {
     "data": {
      "text/plain": [
       "['knowledge-based', 'factual']"
      ]
     },
     "execution_count": 12,
     "metadata": {},
     "output_type": "execute_result"
    }
   ],
   "source": [
    "pre_test_labels = pre_test_data['labels']\n",
    "pre_test_labels"
   ]
  },
  {
   "cell_type": "code",
   "execution_count": 13,
   "id": "69cae0ee918883f1",
   "metadata": {
    "ExecuteTime": {
     "end_time": "2023-09-02T19:06:20.307925Z",
     "start_time": "2023-09-02T19:06:07.351273Z"
    }
   },
   "outputs": [],
   "source": [
    "pre_test_factual_data = classifier(\"Who wrote the book the origin of species?\", \n",
    "          [{\"nature of the factual question\":[\"Descriptive\", \"Comparative\", \"Causal\", \"Biographical\", \"Geographical\", \"Historical\", \"Scientific\"]}]\n",
    ")\n",
    "\n",
    "test_data = classifier(\"Who wrote the book the origin of species?\", \n",
    "          [\"Academia and Education\",\n",
    "            \"Arts and Entertainment\",\n",
    "            \"Business and Economics\",\n",
    "            \"Computers and Technology\",\n",
    "            \"Health and Medicine\",\n",
    "            \"Law and Government\",\n",
    "            \"Lifestyle\",\n",
    "            \"Nature and Environment\",\n",
    "            \"Religion and Spirituality\",\n",
    "            \"Science and Mathematics\",\n",
    "            \"Social Issues and Ethics\",\n",
    "            \"Sports and Physical Activities\",\n",
    "            \"News and Media\",\n",
    "            \"Hobbies and Interests\",\n",
    "            \"Transportation and Infrastructure\",\n",
    "            \"Miscellaneous\"\n",
    "        ]\n",
    ")"
   ]
  },
  {
   "cell_type": "code",
   "execution_count": 14,
   "id": "3398fa6f507fead9",
   "metadata": {
    "ExecuteTime": {
     "end_time": "2023-09-02T19:06:20.310709Z",
     "start_time": "2023-09-02T19:06:20.308366Z"
    }
   },
   "outputs": [
    {
     "name": "stdout",
     "output_type": "stream",
     "text": [
      "{'sequence': 'Who wrote the book the origin of species?', 'labels': ['knowledge-based', 'factual'], 'scores': [0.9521422982215881, 0.0432523712515831]}\n"
     ]
    }
   ],
   "source": [
    "print(pre_test_data)"
   ]
  },
  {
   "cell_type": "code",
   "execution_count": 15,
   "id": "786c515055023345",
   "metadata": {
    "ExecuteTime": {
     "end_time": "2023-09-02T19:06:20.315779Z",
     "start_time": "2023-09-02T19:06:20.311250Z"
    }
   },
   "outputs": [
    {
     "name": "stdout",
     "output_type": "stream",
     "text": [
      "{'sequence': 'Who wrote the book the origin of species?', 'labels': ['Nature and Environment', 'Science and Mathematics', 'Lifestyle', 'Academia and Education', 'Miscellaneous', 'Social Issues and Ethics', 'Hobbies and Interests', 'Transportation and Infrastructure', 'Religion and Spirituality', 'News and Media', 'Health and Medicine', 'Sports and Physical Activities', 'Business and Economics', 'Arts and Entertainment', 'Law and Government', 'Computers and Technology'], 'scores': [0.13140596449375153, 0.004675674717873335, 0.0011849809670820832, 0.0011556673562154174, 0.0008051004260778427, 0.0005069125327281654, 0.0004829400568269193, 0.00042888260213658214, 0.0004136243078391999, 0.00036801391979679465, 0.00033022009301930666, 0.0002339092461625114, 0.00022968242410570383, 0.00018475174147170037, 0.00018106747302226722, 0.0001296051632380113]}\n"
     ]
    }
   ],
   "source": [
    "print(test_data)"
   ]
  },
  {
   "cell_type": "code",
   "execution_count": 16,
   "id": "f92b46fad3852849",
   "metadata": {
    "ExecuteTime": {
     "end_time": "2023-09-02T19:06:20.401993Z",
     "start_time": "2023-09-02T19:06:20.317755Z"
    }
   },
   "outputs": [
    {
     "data": {
      "image/png": "[encoded data removed]",
      "text/plain": [
       "<Figure size 1000x500 with 1 Axes>"
      ]
     },
     "metadata": {},
     "output_type": "display_data"
    }
   ],
   "source": [
    "labels = test_data['labels']\n",
    "scores = test_data['scores']\n",
    "\n",
    "plt.figure(figsize=(10,5))\n",
    "plt.scatter(labels, scores)\n",
    "plt.xticks(rotation=90)  # rotate x labels for better readability\n",
    "plt.xlabel('Labels')\n",
    "plt.ylabel('Scores')\n",
    "plt.title('Scores for each Label')\n",
    "plt.show()"
   ]
  },
  {
   "cell_type": "code",
   "execution_count": 17,
   "id": "17a15d9b7cc826b2",
   "metadata": {
    "ExecuteTime": {
     "end_time": "2023-09-02T19:06:20.506427Z",
     "start_time": "2023-09-02T19:06:20.504911Z"
    }
   },
   "outputs": [],
   "source": [
    "taxonomy = [\n",
    "    ['Academia and Education', [\n",
    "        ['Humanities', ['History', 'Philosophy', 'Linguistics']],\n",
    "        ['Sciences', ['Biology', 'Chemistry', 'Physics']],\n",
    "        ['Social Sciences', ['Sociology', 'Psychology', 'Anthropology']],\n",
    "        ['Vocational and Technical Training', ['Automotive Technology', 'Culinary Arts', 'Health Sciences']]\n",
    "    ]],\n",
    "    ['Arts and Entertainment', [\n",
    "        ['Visual Arts', ['Painting', 'Sculpture', 'Photography']],\n",
    "        ['Performing Arts', ['Theater', 'Dance', 'Music']],\n",
    "        ['Literature', ['Fiction', 'Non-fiction', 'Poetry']],\n",
    "        ['Film and Television', ['Movies', 'TV Shows', 'Documentaries']]\n",
    "    ]],\n",
    "    ['Business and Economics', [\n",
    "        ['Finance', ['Investment', 'Banking', 'Accounting']],\n",
    "        ['Marketing', ['Advertising', 'Digital Marketing', 'Public Relations']],\n",
    "        ['Management', ['Leadership', 'Project Management', 'Human Resources']],\n",
    "        ['Economics', ['Microeconomics', 'Macroeconomics', 'Behavioral Economics']]\n",
    "    ]],\n",
    "    ['Computers and Technology', [\n",
    "        ['Software Development', ['Programming Languages', 'Web Development', 'Mobile App Development']],\n",
    "        ['Hardware', ['Computer Components', 'Peripherals', 'Mobile Devices']],\n",
    "        ['Networking', ['Internet', 'Local Area Networks', 'Wide Area Networks']],\n",
    "        ['Artificial Intelligence', ['Machine Learning', 'Neural Networks', 'Robotics']]\n",
    "    ]],\n",
    "    ['Health and Medicine', [\n",
    "        ['Public Health', ['Epidemiology', 'Health Policy', 'Preventive Medicine']],\n",
    "        ['Mental Health', ['Psychology', 'Psychiatry', 'Counseling']],\n",
    "        ['Medicine', ['Surgery', 'Pediatrics', 'Internal Medicine']],\n",
    "        ['Alternative Medicine', ['Acupuncture', 'Homeopathy', 'Naturopathy']]\n",
    "    ]],\n",
    "    ['Law and Government', [\n",
    "        ['Legislation', ['Criminal Law', 'Civil Law', 'Constitutional Law']],\n",
    "        ['Governance', ['Public Administration', 'Political Science', 'Public Policy']],\n",
    "        ['International Relations', ['Diplomacy', 'Conflict Resolution', 'International Organizations']],\n",
    "        ['Public Policy', ['Social Policy', 'Economic Policy', 'Environmental Policy']]\n",
    "    ]],\n",
    "    ['Lifestyle', [\n",
    "        ['Food and Drink', ['Cooking', 'Wine and Spirits', 'Food Culture']],\n",
    "        ['Fashion', ['Clothing', 'Accessories', 'Beauty and Makeup']],\n",
    "        ['Travel', ['Destinations', 'Travel Planning', 'Adventure Travel']],\n",
    "        ['Leisure and Recreation', ['Hobbies', 'Outdoor Activities', 'Games and Puzzles']]\n",
    "    ]],\n",
    "    ['Nature and Environment', [\n",
    "        ['Ecology', ['Ecosystems', 'Biodiversity', 'Conservation Biology']],\n",
    "        ['Geology', ['Mineralogy', 'Seismology', 'Paleontology']],\n",
    "        ['Climate Change', ['Global Warming', 'Climate Modeling', 'Mitigation and Adaptation']],\n",
    "        ['Conservation', ['Wildlife Conservation', 'Habitat Conservation', 'Environmental Protection']]\n",
    "    ]],\n",
    "    ['Religion and Spirituality', [\n",
    "        ['Theology', ['Christian Theology', 'Islamic Theology', 'Hindu Theology']],\n",
    "        ['Comparative Religion', ['Abrahamic Religions', 'Eastern Religions', 'Indigenous Religions']],\n",
    "        ['Atheism and Agnosticism', ['Secular Humanism', 'Skepticism', 'Freethought']],\n",
    "        ['Spirituality', ['Meditation', 'Mindfulness', 'New Age']]\n",
    "    ]],\n",
    "    ['Science and Mathematics', [\n",
    "        ['Physics', ['Classical Mechanics', 'Quantum Mechanics', 'Thermodynamics']],\n",
    "        ['Chemistry', ['Organic Chemistry', 'Inorganic Chemistry', 'Analytical Chemistry']],\n",
    "        ['Biology', ['Genetics', 'Evolution', 'Ecology']],\n",
    "        ['Mathematics', ['Algebra', 'Calculus', 'Statistics']]\n",
    "    ]],\n",
    "    ['Social Issues and Ethics', [\n",
    "        ['Human Rights', ['Civil Rights', 'Women\\'s Rights', 'LGBTQ+ Rights']],\n",
    "        ['Social Justice', ['Income Inequality', 'Racial Justice', 'Gender Equality']],\n",
    "        ['Ethics and Morality', ['Bioethics', 'Environmental Ethics', 'Business Ethics']],\n",
    "        ['Identity Politics', ['Nationalism', 'Feminism', 'Intersectionality']]\n",
    "    ]],\n",
    "    ['Sports and Physical Activities', [\n",
    "        ['Team Sports', ['Football', 'Basketball', 'Soccer']],\n",
    "        ['Individual Sports', ['Tennis', 'Swimming', 'Athletics']],\n",
    "        ['Outdoor Activities', ['Hiking', 'Cycling', 'Fishing']],\n",
    "        ['Fitness and Exercise', ['Gym Workouts', 'Yoga', 'Pilates']]\n",
    "    ]],\n",
    "    ['News and Media', [\n",
    "        ['Journalism', ['Investigative Journalism', 'Broadcast Journalism', 'Print Journalism']],\n",
    "        ['Social Media', ['Facebook', 'Twitter', 'Instagram']],\n",
    "        ['Broadcast Media', ['Television', 'Radio', 'Podcasts']],\n",
    "        ['Print Media', ['Newspapers', 'Magazines', 'Books']]\n",
    "    ]],\n",
    "    ['Hobbies and Interests', [\n",
    "        ['Collecting', ['Stamp Collecting', 'Coin Collecting', 'Art Collecting']],\n",
    "        ['Gaming', ['Video Games', 'Board Games', 'Role-playing Games']],\n",
    "        ['Crafts', ['Knitting', 'Woodworking', 'Painting']],\n",
    "        ['Music', ['Playing Instruments', 'Listening to Music', 'Composing Music']]\n",
    "    ]],\n",
    "    ['Transportation and Infrastructure', [\n",
    "        ['Public Transport', ['Buses', 'Trains', 'Subways']],\n",
    "        ['Roads and Highways', ['Road Construction', 'Traffic Management', 'Road Safety']],\n",
    "        ['Air Travel', ['Airlines', 'Airports', 'Air Traffic Control']],\n",
    "        ['Shipping', ['Ports', 'Freight Shipping', 'Maritime Safety']]\n",
    "    ]],\n",
    "    ['Miscellaneous', [\n",
    "        ['Urban Legends and Myths', ['Ghost Stories', 'Cryptids', 'Conspiracy Theories']],\n",
    "        ['Conspiracy Theories', ['UFOs', 'Government Cover-ups', 'Secret Societies']],\n",
    "        ['Unexplained Phenomena', ['Paranormal Activities', 'Mysterious Disappearances', 'Unidentified Objects']],\n",
    "        ['Memes and Internet Culture', ['Internet Memes', 'Viral Videos', 'Social Media Trends']]\n",
    "    ]]\n",
    "]\n"
   ]
  },
  {
   "cell_type": "code",
   "execution_count": 18,
   "id": "98e6db9fc77df65a",
   "metadata": {
    "ExecuteTime": {
     "end_time": "2023-09-02T19:06:20.511194Z",
     "start_time": "2023-09-02T19:06:20.507916Z"
    }
   },
   "outputs": [
    {
     "name": "stdout",
     "output_type": "stream",
     "text": [
      "['history', 'philosophy', 'linguistics', 'biology', 'chemistry', 'physics', 'sociology', 'psychology', 'anthropology', 'automotive technology', 'culinary arts', 'health sciences', 'painting', 'sculpture', 'photography', 'theater', 'dance', 'music', 'fiction', 'non-fiction', 'poetry', 'movies', 'tv shows', 'documentaries', 'investment', 'banking', 'accounting', 'advertising', 'digital marketing', 'public relations', 'leadership', 'project management', 'human resources', 'microeconomics', 'macroeconomics', 'behavioral economics', 'programming languages', 'web development', 'mobile app development', 'computer components', 'peripherals', 'mobile devices', 'internet', 'local area networks', 'wide area networks', 'machine learning', 'neural networks', 'robotics', 'epidemiology', 'health policy', 'preventive medicine', 'psychology', 'psychiatry', 'counseling', 'surgery', 'pediatrics', 'internal medicine', 'acupuncture', 'homeopathy', 'naturopathy', 'criminal law', 'civil law', 'constitutional law', 'public administration', 'political science', 'public policy', 'diplomacy', 'conflict resolution', 'international organizations', 'social policy', 'economic policy', 'environmental policy', 'cooking', 'wine and spirits', 'food culture', 'clothing', 'accessories', 'beauty and makeup', 'destinations', 'travel planning', 'adventure travel', 'hobbies', 'outdoor activities', 'games and puzzles', 'ecosystems', 'biodiversity', 'conservation biology', 'mineralogy', 'seismology', 'paleontology', 'global warming', 'climate modeling', 'mitigation and adaptation', 'wildlife conservation', 'habitat conservation', 'environmental protection', 'christian theology', 'islamic theology', 'hindu theology', 'abrahamic religions', 'eastern religions', 'indigenous religions', 'secular humanism', 'skepticism', 'freethought', 'meditation', 'mindfulness', 'new age', 'classical mechanics', 'quantum mechanics', 'thermodynamics', 'organic chemistry', 'inorganic chemistry', 'analytical chemistry', 'genetics', 'evolution', 'ecology', 'algebra', 'calculus', 'statistics', 'civil rights', \"women's rights\", 'lgbtq+ rights', 'income inequality', 'racial justice', 'gender equality', 'bioethics', 'environmental ethics', 'business ethics', 'nationalism', 'feminism', 'intersectionality', 'football', 'basketball', 'soccer', 'tennis', 'swimming', 'athletics', 'hiking', 'cycling', 'fishing', 'gym workouts', 'yoga', 'pilates', 'investigative journalism', 'broadcast journalism', 'print journalism', 'facebook', 'twitter', 'instagram', 'television', 'radio', 'podcasts', 'newspapers', 'magazines', 'books', 'stamp collecting', 'coin collecting', 'art collecting', 'video games', 'board games', 'role-playing games', 'knitting', 'woodworking', 'painting', 'playing instruments', 'listening to music', 'composing music', 'buses', 'trains', 'subways', 'road construction', 'traffic management', 'road safety', 'airlines', 'airports', 'air traffic control', 'ports', 'freight shipping', 'maritime safety', 'ghost stories', 'cryptids', 'conspiracy theories', 'ufos', 'government cover-ups', 'secret societies', 'paranormal activities', 'mysterious disappearances', 'unidentified objects', 'internet memes', 'viral videos', 'social media trends']\n"
     ]
    }
   ],
   "source": [
    "third_level_values = []\n",
    "\n",
    "for category in taxonomy:\n",
    "    for subcategory in category[1]:\n",
    "        for topic in subcategory[1]:\n",
    "            topic = topic.lower()\n",
    "            third_level_values.append(topic)\n",
    "\n",
    "print(third_level_values)"
   ]
  },
  {
   "cell_type": "markdown",
   "id": "44d9c7db75e52eeb",
   "metadata": {},
   "source": [
    "Warning: long compute time"
   ]
  },
  {
   "cell_type": "code",
   "execution_count": 155,
   "id": "4ae96e71c75b06af",
   "metadata": {
    "ExecuteTime": {
     "end_time": "2023-09-02T11:01:58.525995Z",
     "start_time": "2023-09-02T10:59:40.582955Z"
    }
   },
   "outputs": [
    {
     "name": "stdout",
     "output_type": "stream",
     "text": [
      "{'sequence': 'Who wrote the book the origin of species?', 'labels': ['non-fiction', 'biology', 'evolution', 'ecology', 'fiction', 'history', 'anthropology', 'books', 'investigative journalism', 'biodiversity', 'conspiracy theories', 'genetics', 'ufos', 'paleontology', 'skepticism', 'print journalism', 'wildlife conservation', 'organic chemistry', 'conservation biology', 'ecosystems', 'unidentified objects', 'fishing', 'cryptids', 'new age', 'peripherals', 'inorganic chemistry', 'bioethics', 'ports', 'leadership', 'swimming', 'analytical chemistry', 'mineralogy', 'chemistry', 'environmental protection', 'freethought', 'public policy', 'environmental policy', 'pilates', 'accessories', 'classical mechanics', 'hiking', 'philosophy', 'environmental ethics', 'outdoor activities', 'mobile devices', 'government cover-ups', 'wide area networks', 'linguistics', 'cycling', 'mitigation and adaptation', 'sociology', 'thermodynamics', 'civil law', 'sculpture', 'mysterious disappearances', 'counseling', 'subways', 'freight shipping', 'habitat conservation', 'radio', 'twitter', 'woodworking', 'hindu theology', 'tennis', 'accounting', 'local area networks', 'christian theology', 'playing instruments', 'dance', 'intersectionality', 'investment', 'adventure travel', 'knitting', 'internet', 'social policy', 'listening to music', 'clothing', 'psychology', 'psychology', 'secret societies', 'facebook', 'eastern religions', 'statistics', 'trains', 'secular humanism', 'instagram', 'games and puzzles', 'physics', 'human resources', 'airports', 'behavioral economics', 'wine and spirits', 'income inequality', 'meditation', 'airlines', 'cooking', 'gym workouts', 'buses', 'health sciences', 'international organizations', 'paranormal activities', 'road construction', 'football', 'nationalism', 'basketball', 'naturopathy', 'automotive technology', 'maritime safety', 'coin collecting', 'soccer', 'internal medicine', 'abrahamic religions', 'athletics', 'photography', 'microeconomics', 'lgbtq+ rights', 'quantum mechanics', 'public administration', 'preventive medicine', 'diplomacy', 'indigenous religions', 'macroeconomics', 'road safety', 'banking', 'racial justice', 'traffic management', 'project management', 'neural networks', 'digital marketing', 'islamic theology', 'machine learning', 'air traffic control', 'criminal law', 'destinations', 'magazines', 'stamp collecting', 'epidemiology', 'computer components', 'seismology', 'robotics', 'broadcast journalism', 'viral videos', 'web development', 'public relations', 'conflict resolution', 'food culture', 'mindfulness', 'mobile app development', 'civil rights', 'poetry', 'calculus', 'political science', 'acupuncture', 'travel planning', 'culinary arts', 'constitutional law', 'advertising', 'painting', 'painting', 'documentaries', 'board games', 'podcasts', 'theater', 'algebra', 'global warming', 'surgery', 'role-playing games', 'feminism', 'hobbies', 'business ethics', 'yoga', 'climate modeling', 'ghost stories', 'pediatrics', 'newspapers', 'health policy', 'art collecting', 'internet memes', 'homeopathy', 'social media trends', 'gender equality', 'music', 'economic policy', \"women's rights\", 'psychiatry', 'beauty and makeup', 'programming languages', 'video games', 'movies', 'television', 'composing music', 'tv shows'], 'scores': [0.9887826442718506, 0.8903818130493164, 0.7468937039375305, 0.6840643882751465, 0.6365867853164673, 0.6240134835243225, 0.6077156066894531, 0.4443964660167694, 0.4141695201396942, 0.39833563566207886, 0.3950828015804291, 0.3588826358318329, 0.22929728031158447, 0.17770607769489288, 0.17466962337493896, 0.16531097888946533, 0.13670304417610168, 0.13026736676692963, 0.07510613650083542, 0.05487891659140587, 0.04731932654976845, 0.040515586733818054, 0.03872637078166008, 0.035362616181373596, 0.031040029600262642, 0.02889753319323063, 0.025817764922976494, 0.023769382387399673, 0.015779683366417885, 0.012633174657821655, 0.012144331820309162, 0.009762030094861984, 0.00862359069287777, 0.008403082378208637, 0.00747587950900197, 0.006480234209448099, 0.006033027544617653, 0.005753464065492153, 0.005730387754738331, 0.005356153938919306, 0.005086981691420078, 0.00490393815562129, 0.0046036518178880215, 0.004551045596599579, 0.003867784049361944, 0.0030613401904702187, 0.0028157320339232683, 0.002555426675826311, 0.0024123359471559525, 0.0023204381577670574, 0.0022934223525226116, 0.002209700411185622, 0.002162759192287922, 0.002120360964909196, 0.0021027910988777876, 0.0019088555127382278, 0.0018695021281018853, 0.0018356883665546775, 0.001797966891899705, 0.0016393724363297224, 0.0012974084820598364, 0.001260383171029389, 0.0011252585100010037, 0.001092651393264532, 0.0010911925928667188, 0.0010616856161504984, 0.0010557776549831033, 0.0010268614860251546, 0.0010116095654666424, 0.0009985213400796056, 0.0009778753155842423, 0.0009712760802358389, 0.0009606446255929768, 0.0009382646530866623, 0.0009301303653046489, 0.0009137497982010245, 0.0009071154636330903, 0.0008885790593922138, 0.0008885790593922138, 0.0008563331793993711, 0.0008559796842746437, 0.0008178762509487569, 0.0008059542742557824, 0.0007962496019899845, 0.0007751881494186819, 0.0007460986380465329, 0.0007337233400903642, 0.0007244313019327819, 0.0006892730016261339, 0.0006823246949352324, 0.000674496463034302, 0.0006527997320517898, 0.0006132215494289994, 0.0006090018432587385, 0.0006020869477652013, 0.000592404103372246, 0.00057195097906515, 0.0005392722086980939, 0.0005314068403095007, 0.0005225770873948932, 0.0005170959630049765, 0.0004982597311027348, 0.000486920092953369, 0.00048454460920765996, 0.0004825622891075909, 0.0004701444413512945, 0.0004700163844972849, 0.00046516870497725904, 0.0004567393916659057, 0.00044297557906247675, 0.00043476978316903114, 0.00043411777005530894, 0.00043179653584957123, 0.0004268281045369804, 0.0004238779656589031, 0.00041856468305923045, 0.00041223494918085635, 0.00038801421760581434, 0.00038362271152436733, 0.00038031619624234736, 0.0003791097260545939, 0.00037393372622318566, 0.00036833350895904005, 0.0003669070138130337, 0.00036664854269474745, 0.00036282383371144533, 0.00036192097468301654, 0.00035238100099377334, 0.00034348751069046557, 0.0003424653841648251, 0.0003386775788385421, 0.00031742919236421585, 0.00031080777989700437, 0.00030613376293331385, 0.0003024273901246488, 0.00029282341711223125, 0.00029083012486808, 0.0002870572789106518, 0.0002858264488168061, 0.0002609890070743859, 0.00025005379575304687, 0.0002471754851285368, 0.000239516535657458, 0.0002391353336861357, 0.00023719368618912995, 0.00023711631365586072, 0.0002266263763885945, 0.00020690439851023257, 0.00020610298088286072, 0.0002051927731372416, 0.00020397659682203084, 0.0002010494063142687, 0.0002007270959438756, 0.0001982525864150375, 0.0001934495085151866, 0.00018224453378934413, 0.00018217098840977997, 0.00018108989752363414, 0.00018108989752363414, 0.00017843327077571303, 0.0001775534765329212, 0.00017637640121392906, 0.00016899548063520342, 0.0001622819108888507, 0.00016014545690268278, 0.00015567442460451275, 0.00015430510393343866, 0.00015425629680976272, 0.00015377553063444793, 0.00015252646699082106, 0.00015063511091284454, 0.000149935731315054, 0.00014513365749735385, 0.00013839344319421798, 0.00013343707541935146, 0.00012902184971608222, 0.0001288668718189001, 0.00012833141954615712, 0.00012803943536709994, 0.00012737527140416205, 0.00012498564319685102, 0.00012323010014370084, 0.0001225635060109198, 0.0001222583232447505, 0.00011441401875345036, 0.00011418397480156273, 0.00010112412564922124, 9.259110083803535e-05, 9.192461584461853e-05, 8.794879249762744e-05, 8.41937362565659e-05, 3.893762914231047e-05]}\n"
     ]
    }
   ],
   "source": [
    "# pre_test_data = classifier(\"Who wrote the book the origin of species?\", \n",
    "#           third_level_values\n",
    "# )\n",
    "# print(pre_test_data)"
   ]
  },
  {
   "cell_type": "code",
   "execution_count": 19,
   "id": "6bd5fb3d194ad26f",
   "metadata": {
    "ExecuteTime": {
     "end_time": "2023-09-02T19:06:26.070915Z",
     "start_time": "2023-09-02T19:06:26.034599Z"
    }
   },
   "outputs": [
    {
     "data": {
      "text/html": [
       "<div>\n",
       "<style scoped>\n",
       "    .dataframe tbody tr th:only-of-type {\n",
       "        vertical-align: middle;\n",
       "    }\n",
       "\n",
       "    .dataframe tbody tr th {\n",
       "        vertical-align: top;\n",
       "    }\n",
       "\n",
       "    .dataframe thead th {\n",
       "        text-align: right;\n",
       "    }\n",
       "</style>\n",
       "<table border=\"1\" class=\"dataframe\">\n",
       "  <thead>\n",
       "    <tr style=\"text-align: right;\">\n",
       "      <th></th>\n",
       "      <th>Label</th>\n",
       "      <th>Score</th>\n",
       "    </tr>\n",
       "  </thead>\n",
       "  <tbody>\n",
       "    <tr>\n",
       "      <th>0</th>\n",
       "      <td>non-fiction</td>\n",
       "      <td>0.988783</td>\n",
       "    </tr>\n",
       "    <tr>\n",
       "      <th>1</th>\n",
       "      <td>biology</td>\n",
       "      <td>0.890382</td>\n",
       "    </tr>\n",
       "    <tr>\n",
       "      <th>2</th>\n",
       "      <td>evolution</td>\n",
       "      <td>0.746894</td>\n",
       "    </tr>\n",
       "    <tr>\n",
       "      <th>3</th>\n",
       "      <td>ecology</td>\n",
       "      <td>0.684064</td>\n",
       "    </tr>\n",
       "    <tr>\n",
       "      <th>4</th>\n",
       "      <td>fiction</td>\n",
       "      <td>0.636587</td>\n",
       "    </tr>\n",
       "    <tr>\n",
       "      <th>...</th>\n",
       "      <td>...</td>\n",
       "      <td>...</td>\n",
       "    </tr>\n",
       "    <tr>\n",
       "      <th>187</th>\n",
       "      <td>video games</td>\n",
       "      <td>0.000093</td>\n",
       "    </tr>\n",
       "    <tr>\n",
       "      <th>188</th>\n",
       "      <td>movies</td>\n",
       "      <td>0.000092</td>\n",
       "    </tr>\n",
       "    <tr>\n",
       "      <th>189</th>\n",
       "      <td>television</td>\n",
       "      <td>0.000088</td>\n",
       "    </tr>\n",
       "    <tr>\n",
       "      <th>190</th>\n",
       "      <td>composing music</td>\n",
       "      <td>0.000084</td>\n",
       "    </tr>\n",
       "    <tr>\n",
       "      <th>191</th>\n",
       "      <td>tv shows</td>\n",
       "      <td>0.000039</td>\n",
       "    </tr>\n",
       "  </tbody>\n",
       "</table>\n",
       "<p>192 rows × 2 columns</p>\n",
       "</div>"
      ],
      "text/plain": [
       "               Label     Score\n",
       "0        non-fiction  0.988783\n",
       "1            biology  0.890382\n",
       "2          evolution  0.746894\n",
       "3            ecology  0.684064\n",
       "4            fiction  0.636587\n",
       "..               ...       ...\n",
       "187      video games  0.000093\n",
       "188           movies  0.000092\n",
       "189       television  0.000088\n",
       "190  composing music  0.000084\n",
       "191         tv shows  0.000039\n",
       "\n",
       "[192 rows x 2 columns]"
      ]
     },
     "execution_count": 19,
     "metadata": {},
     "output_type": "execute_result"
    }
   ],
   "source": [
    "import pandas as pd\n",
    "\n",
    "data = {'sequence': 'Who wrote the book the origin of species?', 'labels': ['non-fiction', 'biology', 'evolution', 'ecology', 'fiction', 'history', 'anthropology', 'books', 'investigative journalism', 'biodiversity', 'conspiracy theories', 'genetics', 'ufos', 'paleontology', 'skepticism', 'print journalism', 'wildlife conservation', 'organic chemistry', 'conservation biology', 'ecosystems', 'unidentified objects', 'fishing', 'cryptids', 'new age', 'peripherals', 'inorganic chemistry', 'bioethics', 'ports', 'leadership', 'swimming', 'analytical chemistry', 'mineralogy', 'chemistry', 'environmental protection', 'freethought', 'public policy', 'environmental policy', 'pilates', 'accessories', 'classical mechanics', 'hiking', 'philosophy', 'environmental ethics', 'outdoor activities', 'mobile devices', 'government cover-ups', 'wide area networks', 'linguistics', 'cycling', 'mitigation and adaptation', 'sociology', 'thermodynamics', 'civil law', 'sculpture', 'mysterious disappearances', 'counseling', 'subways', 'freight shipping', 'habitat conservation', 'radio', 'twitter', 'woodworking', 'hindu theology', 'tennis', 'accounting', 'local area networks', 'christian theology', 'playing instruments', 'dance', 'intersectionality', 'investment', 'adventure travel', 'knitting', 'internet', 'social policy', 'listening to music', 'clothing', 'psychology', 'psychology', 'secret societies', 'facebook', 'eastern religions', 'statistics', 'trains', 'secular humanism', 'instagram', 'games and puzzles', 'physics', 'human resources', 'airports', 'behavioral economics', 'wine and spirits', 'income inequality', 'meditation', 'airlines', 'cooking', 'gym workouts', 'buses', 'health sciences', 'international organizations', 'paranormal activities', 'road construction', 'football', 'nationalism', 'basketball', 'naturopathy', 'automotive technology', 'maritime safety', 'coin collecting', 'soccer', 'internal medicine', 'abrahamic religions', 'athletics', 'photography', 'microeconomics', 'lgbtq+ rights', 'quantum mechanics', 'public administration', 'preventive medicine', 'diplomacy', 'indigenous religions', 'macroeconomics', 'road safety', 'banking', 'racial justice', 'traffic management', 'project management', 'neural networks', 'digital marketing', 'islamic theology', 'machine learning', 'air traffic control', 'criminal law', 'destinations', 'magazines', 'stamp collecting', 'epidemiology', 'computer components', 'seismology', 'robotics', 'broadcast journalism', 'viral videos', 'web development', 'public relations', 'conflict resolution', 'food culture', 'mindfulness', 'mobile app development', 'civil rights', 'poetry', 'calculus', 'political science', 'acupuncture', 'travel planning', 'culinary arts', 'constitutional law', 'advertising', 'painting', 'painting', 'documentaries', 'board games', 'podcasts', 'theater', 'algebra', 'global warming', 'surgery', 'role-playing games', 'feminism', 'hobbies', 'business ethics', 'yoga', 'climate modeling', 'ghost stories', 'pediatrics', 'newspapers', 'health policy', 'art collecting', 'internet memes', 'homeopathy', 'social media trends', 'gender equality', 'music', 'economic policy', \"women's rights\", 'psychiatry', 'beauty and makeup', 'programming languages', 'video games', 'movies', 'television', 'composing music', 'tv shows'], 'scores': [0.9887826442718506, 0.8903818130493164, 0.7468937039375305, 0.6840643882751465, 0.6365867853164673, 0.6240134835243225, 0.6077156066894531, 0.4443964660167694, 0.4141695201396942, 0.39833563566207886, 0.3950828015804291, 0.3588826358318329, 0.22929728031158447, 0.17770607769489288, 0.17466962337493896, 0.16531097888946533, 0.13670304417610168, 0.13026736676692963, 0.07510613650083542, 0.05487891659140587, 0.04731932654976845, 0.040515586733818054, 0.03872637078166008, 0.035362616181373596, 0.031040029600262642, 0.02889753319323063, 0.025817764922976494, 0.023769382387399673, 0.015779683366417885, 0.012633174657821655, 0.012144331820309162, 0.009762030094861984, 0.00862359069287777, 0.008403082378208637, 0.00747587950900197, 0.006480234209448099, 0.006033027544617653, 0.005753464065492153, 0.005730387754738331, 0.005356153938919306, 0.005086981691420078, 0.00490393815562129, 0.0046036518178880215, 0.004551045596599579, 0.003867784049361944, 0.0030613401904702187, 0.0028157320339232683, 0.002555426675826311, 0.0024123359471559525, 0.0023204381577670574, 0.0022934223525226116, 0.002209700411185622, 0.002162759192287922, 0.002120360964909196, 0.0021027910988777876, 0.0019088555127382278, 0.0018695021281018853, 0.0018356883665546775, 0.001797966891899705, 0.0016393724363297224, 0.0012974084820598364, 0.001260383171029389, 0.0011252585100010037, 0.001092651393264532, 0.0010911925928667188, 0.0010616856161504984, 0.0010557776549831033, 0.0010268614860251546, 0.0010116095654666424, 0.0009985213400796056, 0.0009778753155842423, 0.0009712760802358389, 0.0009606446255929768, 0.0009382646530866623, 0.0009301303653046489, 0.0009137497982010245, 0.0009071154636330903, 0.0008885790593922138, 0.0008885790593922138, 0.0008563331793993711, 0.0008559796842746437, 0.0008178762509487569, 0.0008059542742557824, 0.0007962496019899845, 0.0007751881494186819, 0.0007460986380465329, 0.0007337233400903642, 0.0007244313019327819, 0.0006892730016261339, 0.0006823246949352324, 0.000674496463034302, 0.0006527997320517898, 0.0006132215494289994, 0.0006090018432587385, 0.0006020869477652013, 0.000592404103372246, 0.00057195097906515, 0.0005392722086980939, 0.0005314068403095007, 0.0005225770873948932, 0.0005170959630049765, 0.0004982597311027348, 0.000486920092953369, 0.00048454460920765996, 0.0004825622891075909, 0.0004701444413512945, 0.0004700163844972849, 0.00046516870497725904, 0.0004567393916659057, 0.00044297557906247675, 0.00043476978316903114, 0.00043411777005530894, 0.00043179653584957123, 0.0004268281045369804, 0.0004238779656589031, 0.00041856468305923045, 0.00041223494918085635, 0.00038801421760581434, 0.00038362271152436733, 0.00038031619624234736, 0.0003791097260545939, 0.00037393372622318566, 0.00036833350895904005, 0.0003669070138130337, 0.00036664854269474745, 0.00036282383371144533, 0.00036192097468301654, 0.00035238100099377334, 0.00034348751069046557, 0.0003424653841648251, 0.0003386775788385421, 0.00031742919236421585, 0.00031080777989700437, 0.00030613376293331385, 0.0003024273901246488, 0.00029282341711223125, 0.00029083012486808, 0.0002870572789106518, 0.0002858264488168061, 0.0002609890070743859, 0.00025005379575304687, 0.0002471754851285368, 0.000239516535657458, 0.0002391353336861357, 0.00023719368618912995, 0.00023711631365586072, 0.0002266263763885945, 0.00020690439851023257, 0.00020610298088286072, 0.0002051927731372416, 0.00020397659682203084, 0.0002010494063142687, 0.0002007270959438756, 0.0001982525864150375, 0.0001934495085151866, 0.00018224453378934413, 0.00018217098840977997, 0.00018108989752363414, 0.00018108989752363414, 0.00017843327077571303, 0.0001775534765329212, 0.00017637640121392906, 0.00016899548063520342, 0.0001622819108888507, 0.00016014545690268278, 0.00015567442460451275, 0.00015430510393343866, 0.00015425629680976272, 0.00015377553063444793, 0.00015252646699082106, 0.00015063511091284454, 0.000149935731315054, 0.00014513365749735385, 0.00013839344319421798, 0.00013343707541935146, 0.00012902184971608222, 0.0001288668718189001, 0.00012833141954615712, 0.00012803943536709994, 0.00012737527140416205, 0.00012498564319685102, 0.00012323010014370084, 0.0001225635060109198, 0.0001222583232447505, 0.00011441401875345036, 0.00011418397480156273, 0.00010112412564922124, 9.259110083803535e-05, 9.192461584461853e-05, 8.794879249762744e-05, 8.41937362565659e-05, 3.893762914231047e-05]}\n",
    "\n",
    "# Extract labels and scores\n",
    "labels = data['labels']\n",
    "scores = data['scores']\n",
    "\n",
    "# Create a DataFrame\n",
    "df = pd.DataFrame({'Label': labels, 'Score': scores})\n",
    "df"
   ]
  },
  {
   "cell_type": "code",
   "execution_count": 20,
   "id": "27be1218e8ced673",
   "metadata": {
    "ExecuteTime": {
     "end_time": "2023-09-02T19:06:27.124617Z",
     "start_time": "2023-09-02T19:06:27.111565Z"
    }
   },
   "outputs": [],
   "source": [
    "filtered_df = df[df['Score'] >= 0.5]"
   ]
  },
  {
   "cell_type": "code",
   "execution_count": 21,
   "id": "425a23e78abd156b",
   "metadata": {
    "ExecuteTime": {
     "end_time": "2023-09-02T19:06:28.072886Z",
     "start_time": "2023-09-02T19:06:28.062052Z"
    }
   },
   "outputs": [
    {
     "name": "stdout",
     "output_type": "stream",
     "text": [
      "['non-fiction', 'biology', 'evolution', 'ecology', 'fiction', 'history', 'anthropology']\n"
     ]
    }
   ],
   "source": [
    "filtered = filtered_df['Label'].tolist()\n",
    "# lowercase the labels\n",
    "filtered = [x.lower() for x in filtered]\n",
    "print(filtered)"
   ]
  },
  {
   "cell_type": "markdown",
   "id": "c0af7fcaaf1a758a",
   "metadata": {},
   "source": [
    "text generation from structured data."
   ]
  },
  {
   "cell_type": "code",
   "execution_count": 27,
   "id": "a1946df0a607cc43",
   "metadata": {
    "ExecuteTime": {
     "end_time": "2023-09-02T19:11:57.022208Z",
     "start_time": "2023-09-02T19:11:08.703494Z"
    }
   },
   "outputs": [
    {
     "name": "stderr",
     "output_type": "stream",
     "text": [
      "Setting `pad_token_id` to `eos_token_id`:50256 for open-end generation.\n"
     ]
    },
    {
     "name": "stdout",
     "output_type": "stream",
     "text": [
      "[{'generated_text': 'You are a very intelligent and smart helper. Within the following topics: knowledge-based, factual, non-fiction, biology, evolution, ecology, fiction, history, anthropology. The book the origin of species was written by: Charles Darwin (English naturalist). He claimed its publication in his book \"On the Origins of Species by Means of Natural Selection\" was an important step towards the search for the \"first\" man.\\n\\nThe book is the subject of the famous movie \"The Theory'}]\n"
     ]
    }
   ],
   "source": [
    "# merge two list pre_test_labels and filtered\n",
    "training_data_for_zero_shot = pre_test_labels + filtered\n",
    "\n",
    "Y = training_data_for_zero_shot\n",
    "X = \"The book the origin of species was written by:\"\n",
    "\n",
    "input_text = 'You are a very intelligent and smart helper. Within the following topics: ' + ', '.join(Y)+ '. ' + X\n",
    "\n",
    "print(pipe_gpt(input_text, max_length=100, num_return_sequences=4))\n",
    "\n",
    "\n"
   ]
  },
  {
   "cell_type": "markdown",
   "id": "2b374cd428d0802a",
   "metadata": {
    "slideshow": {
     "slide_type": "slide"
    }
   },
   "source": []
  },
  {
   "cell_type": "code",
   "execution_count": 28,
   "id": "a04908d02b823612",
   "metadata": {
    "ExecuteTime": {
     "end_time": "2023-09-02T19:12:54.946045Z",
     "start_time": "2023-09-02T19:12:54.919916Z"
    }
   },
   "outputs": [
    {
     "name": "stdout",
     "output_type": "stream",
     "text": [
      "[{'generated_text': 'You are a very intelligent and smart helper. Within the following topics: knowledge-based, factual, non-fiction, biology, evolution, ecology, fiction, history, anthropology. The book the origin of species was written by: Charles Darwin (English naturalist). He claimed its publication in his book \"On the Origins of Species by Means of Natural Selection\" was an important step towards the search for the \"first\" man.\\n\\nThe book is the subject of the famous movie \"The Theory'}]\n"
     ]
    }
   ],
   "source": [
    "print([{'generated_text': 'You are a very intelligent and smart helper. Within the following topics: knowledge-based, factual, non-fiction, biology, evolution, ecology, fiction, history, anthropology. The book the origin of species was written by: Charles Darwin (English naturalist). He claimed its publication in his book \"On the Origins of Species by Means of Natural Selection\" was an important step towards the search for the \"first\" man.\\n\\nThe book is the subject of the famous movie \"The Theory'}])"
   ]
  },
  {
   "cell_type": "markdown",
   "id": "70e5ed0640c750b9",
   "metadata": {},
   "source": [
    "$$P(X|Y)\\ =\\ 1$$"
   ]
  },
  {
   "cell_type": "code",
   "execution_count": null,
   "id": "6c1f2f7171201452",
   "metadata": {},
   "outputs": [],
   "source": [
    "Y = 'Charles Darwin (English naturalist). He claimed its publication in his book \"On the Origins of Species by Means of Natural Selection\" was an important step towards the search for the \"first\" man.\\n\\nThe book is the subject of the famous movie \"The Theory'\n",
    "X = \"Who wrote the book the origin of species?\""
   ]
  },
  {
   "cell_type": "markdown",
   "id": "627dec3d53b14a5d",
   "metadata": {},
   "source": [
    "## Please share your thoughts\n",
    "\n",
    "**Given:**\n",
    "\n",
    "$P(X|Y) = 1$\n",
    "\n",
    "X = \"Who wrote the book the origin of species?\"\n",
    "Y = generated_NL(X, ['knowledge-based', 'factual', 'evolution', 'non-fiction', 'biology', 'anthropology'])\n",
    " \n",
    "Question:\n",
    "* How do we create more X and Y pairs?\n",
    "\n"
   ]
  },
  {
   "cell_type": "code",
   "execution_count": null,
   "id": "b66980c9b859083c",
   "metadata": {},
   "outputs": [],
   "source": []
  }
 ],
 "metadata": {
  "celltoolbar": "Slideshow",
  "kernelspec": {
   "display_name": "Python 3 (ipykernel)",
   "language": "python",
   "name": "python3"
  },
  "language_info": {
   "codemirror_mode": {
    "name": "ipython",
    "version": 3
   },
   "file_extension": ".py",
   "mimetype": "text/x-python",
   "name": "python",
   "nbconvert_exporter": "python",
   "pygments_lexer": "ipython3",
   "version": "3.10.12"
  }
 },
 "nbformat": 4,
 "nbformat_minor": 5
}
