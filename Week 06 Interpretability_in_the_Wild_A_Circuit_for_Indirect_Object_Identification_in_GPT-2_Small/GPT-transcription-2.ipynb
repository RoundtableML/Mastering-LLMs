{
 "cells": [
  {
   "cell_type": "code",
   "execution_count": 32,
   "outputs": [],
   "source": [
    "BATCH_SIZE = 16"
   ],
   "metadata": {
    "collapsed": false,
    "ExecuteTime": {
     "end_time": "2023-09-17T16:07:01.987762Z",
     "start_time": "2023-09-17T16:07:01.978291Z"
    }
   }
  },
  {
   "cell_type": "code",
   "execution_count": null,
   "metadata": {
    "colab": {
     "base_uri": "https://localhost:8080/"
    },
    "executionInfo": {
     "elapsed": 23330,
     "status": "ok",
     "timestamp": 1694938409830,
     "user": {
      "displayName": "Jed",
      "userId": "11553494090571428644"
     },
     "user_tz": -480
    },
    "id": "xx8EsNTkM0Ob",
    "outputId": "8848369e-abe0-4f22-bc83-67a7115ef98e"
   },
   "outputs": [
    {
     "name": "stdout",
     "output_type": "stream",
     "text": [
      "Mounted at /content/drive\n"
     ]
    }
   ],
   "source": [
    "# from google.colab import drive\n",
    "# drive.mount('/content/drive')"
   ]
  },
  {
   "cell_type": "code",
   "execution_count": 1,
   "metadata": {
    "colab": {
     "base_uri": "https://localhost:8080/"
    },
    "executionInfo": {
     "elapsed": 19124,
     "status": "ok",
     "timestamp": 1694938441768,
     "user": {
      "displayName": "Jed",
      "userId": "11553494090571428644"
     },
     "user_tz": -480
    },
    "id": "ukFX43JSun-V",
    "outputId": "a1cbc146-aad0-47ff-956c-f0edd2779392",
    "ExecuteTime": {
     "end_time": "2023-09-18T08:24:00.760697Z",
     "start_time": "2023-09-18T08:24:00.749685Z"
    }
   },
   "outputs": [],
   "source": [
    "# !pip install transformer-lens fancy_einsum"
   ]
  },
  {
   "cell_type": "code",
   "execution_count": 2,
   "metadata": {
    "id": "JAaqvrtXGY9G",
    "ExecuteTime": {
     "end_time": "2023-09-17T16:01:25.799214Z",
     "start_time": "2023-09-17T16:01:25.794391Z"
    }
   },
   "outputs": [],
   "source": [
    "from transformer_lens.utils import get_corner, gelu_new"
   ]
  },
  {
   "cell_type": "code",
   "execution_count": 3,
   "metadata": {
    "id": "NAD9ERtGuj3B",
    "ExecuteTime": {
     "end_time": "2023-09-17T16:01:28.016622Z",
     "start_time": "2023-09-17T16:01:26.920886Z"
    }
   },
   "outputs": [],
   "source": [
    "# Create a PyTorch dataset for IMDB movie reviews using HuggingFace's datasets library\n",
    "# https://huggingface.co/datasets/imdb\n",
    "import math\n",
    "import re\n",
    "import torch\n",
    "import torch.nn as nn\n",
    "import einops\n",
    "from fancy_einsum import einsum\n",
    "import pandas as pd\n",
    "import tqdm.auto as tqdm\n",
    "from dataclasses import dataclass\n",
    "from torch.utils.data import Dataset\n",
    "from collections import defaultdict\n",
    "from torch.nn import Embedding\n",
    "from transformers import AutoTokenizer, DataCollatorForLanguageModeling, default_data_collator\n",
    "from datasets import load_dataset, concatenate_datasets"
   ]
  },
  {
   "cell_type": "code",
   "execution_count": 8,
   "metadata": {
    "colab": {
     "base_uri": "https://localhost:8080/",
     "height": 145,
     "referenced_widgets": [
      "f4614692041b4814909dbefbbbdb509e",
      "4106ed711f314862bb3ee00e08c7b16c",
      "5c0712b4ffd04adca57a49de7d322ad8",
      "effdfe85fb2e4038bd517718fdeb8e43",
      "71d956543985421b9350e385e231ebbc",
      "f2242ce8ac7a45b1a5c93f760484bc55",
      "ba1e3fc9f77141a6a4d83e118a6e6bd7",
      "29e078f5489b4dd1b4addee0b0634e95",
      "ce5abc8041754125af7a68fb63da9b58",
      "017369117d5c459c82336d2d506c96a8",
      "49b724fb2d4d43c5835c520e4eb26865",
      "5fecb3b8674a4cb9a1ea2473f906fc59",
      "7f79211b3493480d9815fb819edb6589",
      "4e189d0400544f0796307a3222421fae",
      "6bd3c0fcf1844444a38939109273166c",
      "2ee6586be85a47c18b7d49b8e07bda83",
      "c0179f91652d48f18ff6fcc95d537082",
      "ef68e6f9a01349ceb6a842468c0e1a35",
      "a49c986ed3ef4e1e82e2a7c8f02415fa",
      "44c797b28d504872a975faae9f8e46ac",
      "92612092834944438ffc81505aa595e7",
      "a6b1df8064d448f7b10d164f020c3ea2",
      "9b82fd0b006a42f9ae63acb3754d28d9",
      "2b0127af8cec47a4bbff858f4be7af6e",
      "d09135783eeb4ba6a4edd8035a608246",
      "dc430483a2ea49c199a21d5f425dd8e7",
      "68630bc61a664e57bbfb69be41e568f0",
      "9b22bee16f7f41de8dd178095ba028fb",
      "7e2d9aa7a5f046d38e023b22ad2d84e7",
      "c17a16fdd5e040959feb1039446188e3",
      "6ce9f6c6357f4687abe5903d0ba0384f",
      "938494f555024c5fbc8d428ca0ac7bb7",
      "bf43d5c1965848e7ae6e02035f497779",
      "9d0d20228be54102bd50b38fac588aaa",
      "25ddcbbd77b44422a479e72040f9878c",
      "13539adc604e48e3aefd01374a4bb3f7",
      "4d102f14c061484abb596d48480037f7",
      "65435695089f4429bea5a568615b0455",
      "f90f3ca7029a45b9b89a47cb2b988764",
      "36806561cf7c467ab801daac76408faf",
      "57e9242e07ce4d12b56c67d1a92e20be",
      "20423cbfcbb74f5f9c485b24b5eb14b4",
      "88c2a841ef654b57899b3b365c46ed1a",
      "72743d38b9c64c3e84aba47732d57004"
     ]
    },
    "executionInfo": {
     "elapsed": 654,
     "status": "ok",
     "timestamp": 1694938453864,
     "user": {
      "displayName": "Jed",
      "userId": "11553494090571428644"
     },
     "user_tz": -480
    },
    "id": "K3Jb5Ddcu9a8",
    "outputId": "4e68bc28-52b0-4030-e64a-b2402e138ac8",
    "ExecuteTime": {
     "end_time": "2023-09-17T16:02:33.826238Z",
     "start_time": "2023-09-17T16:02:32.475974Z"
    }
   },
   "outputs": [],
   "source": [
    "from transformers import GPT2Tokenizer, GPT2LMHeadModel, GPT2Config\n",
    "tokenizer = AutoTokenizer.from_pretrained('gpt2')\n",
    "tokenizer.add_special_tokens({'pad_token': '[PAD]'})\n",
    "# config = GPT2Config(vocab_size=len(tokenizer), n_embd=512, n_layer=4, n_head=8)"
   ]
  },
  {
   "cell_type": "code",
   "execution_count": 33,
   "metadata": {
    "colab": {
     "base_uri": "https://localhost:8080/"
    },
    "executionInfo": {
     "elapsed": 7,
     "status": "ok",
     "timestamp": 1694938453864,
     "user": {
      "displayName": "Jed",
      "userId": "11553494090571428644"
     },
     "user_tz": -480
    },
    "id": "BWfYKHmxvZt4",
    "outputId": "2477528f-8542-4c80-815d-3db6d2eb2c44",
    "ExecuteTime": {
     "end_time": "2023-09-17T16:07:10.665272Z",
     "start_time": "2023-09-17T16:07:10.657358Z"
    }
   },
   "outputs": [
    {
     "name": "stdout",
     "output_type": "stream",
     "text": [
      "Config(d_model=768, debug=False, layer_norm_eps=1e-05, d_vocab=50257, init_range=0.02, n_ctx=15642, d_head=64, d_mlp=3072, n_heads=12, n_layers=12)\n"
     ]
    }
   ],
   "source": [
    "@dataclass\n",
    "class Config:\n",
    "    d_model: int = 768\n",
    "    debug: bool = False\n",
    "    layer_norm_eps: float = 1e-5\n",
    "    d_vocab: int = 50257\n",
    "    init_range: float = 0.02\n",
    "    n_ctx: int = 15642\n",
    "    d_head: int = 64\n",
    "    d_mlp: int = 3072\n",
    "    n_heads: int = 12\n",
    "    n_layers: int = 12\n",
    "\n",
    "cfg = Config()\n",
    "print(cfg)"
   ]
  },
  {
   "cell_type": "code",
   "execution_count": 34,
   "metadata": {
    "id": "QcGUwe9kvdUt",
    "ExecuteTime": {
     "end_time": "2023-09-17T16:07:11.639377Z",
     "start_time": "2023-09-17T16:07:11.628420Z"
    }
   },
   "outputs": [],
   "source": [
    "batch_size = BATCH_SIZE\n",
    "num_epochs = 1\n",
    "max_steps = 1000\n",
    "log_every = 10\n",
    "lr = 1e-3\n",
    "weight_decay = 1e-2\n",
    "model_cfg = Config(debug=False, d_model=256, n_heads=4, d_head=64, d_mlp=1024, n_layers=2, n_ctx=256, d_vocab=cfg.d_vocab)"
   ]
  },
  {
   "cell_type": "code",
   "execution_count": 35,
   "metadata": {
    "id": "771mO7kovIxB",
    "ExecuteTime": {
     "end_time": "2023-09-17T16:07:12.843481Z",
     "start_time": "2023-09-17T16:07:12.831628Z"
    }
   },
   "outputs": [],
   "source": [
    "def rand_float_test(cls, shape):\n",
    "    cfg = Config(debug=True)\n",
    "    layer = cls(cfg)\n",
    "    random_input = torch.randn(shape)\n",
    "    print(\"Input shape:\", random_input.shape)\n",
    "    output = layer(random_input)\n",
    "    print(\"Output shape:\", output.shape)\n",
    "    print()\n",
    "    return output\n",
    "\n",
    "def rand_int_test(cls, shape):\n",
    "    cfg = Config(debug=True)\n",
    "    layer = cls(cfg)\n",
    "    random_input = torch.randint(100, 1000, shape)\n",
    "    print(\"Input shape:\", random_input.shape)\n",
    "    output = layer(random_input)\n",
    "    print(\"Output shape:\", output.shape)\n",
    "    print()\n",
    "    return output"
   ]
  },
  {
   "cell_type": "code",
   "execution_count": 36,
   "metadata": {
    "colab": {
     "base_uri": "https://localhost:8080/"
    },
    "executionInfo": {
     "elapsed": 327,
     "status": "ok",
     "timestamp": 1694938454186,
     "user": {
      "displayName": "Jed",
      "userId": "11553494090571428644"
     },
     "user_tz": -480
    },
    "id": "nsuioiOTv03j",
    "outputId": "ef4a1943-9cfb-406e-d4dc-d59afaee4b4f",
    "ExecuteTime": {
     "end_time": "2023-09-17T16:07:14.055790Z",
     "start_time": "2023-09-17T16:07:13.987398Z"
    }
   },
   "outputs": [
    {
     "name": "stdout",
     "output_type": "stream",
     "text": [
      "Input shape: torch.Size([2, 4, 768])\n",
      "Output shape: torch.Size([2, 4, 768])\n"
     ]
    },
    {
     "data": {
      "text/plain": "tensor([[[ 7.0771e-01,  2.5544e-02, -4.8398e-01,  ..., -7.7187e-01,\n          -1.6858e-01,  1.9644e-01],\n         [ 9.4483e-02, -1.2457e-01,  6.8828e-02,  ..., -7.0338e-01,\n          -4.4167e-01,  4.3592e-04],\n         [ 3.8401e-01,  1.2869e-01,  6.2888e-02,  ..., -6.6646e-01,\n          -4.7603e-02, -6.3357e-01],\n         [-3.1750e-01,  1.9309e-01, -1.5287e-01,  ...,  2.1369e-01,\n          -2.2808e-01,  3.7091e-01]],\n\n        [[ 3.9809e-01,  1.1421e-01, -4.0952e-01,  ..., -3.3643e-01,\n          -5.7297e-02, -2.6065e-01],\n         [-3.1438e-04, -2.7293e-01, -2.2632e-01,  ...,  6.2189e-02,\n           8.5641e-02,  2.6140e-03],\n         [-1.8383e-01,  2.1350e-01,  2.8224e-01,  ...,  2.5073e-01,\n          -1.2176e-01,  3.9101e-01],\n         [-6.5818e-01,  1.2267e+00,  2.8108e-01,  ...,  5.3583e-01,\n          -3.5283e-01, -2.9918e-01]]], grad_fn=<AddBackward0>)"
     },
     "execution_count": 36,
     "metadata": {},
     "output_type": "execute_result"
    }
   ],
   "source": [
    "class MLP(nn.Module):\n",
    "    def __init__(self, cfg):\n",
    "        super().__init__()\n",
    "        self.cfg = cfg\n",
    "        self.W_in = nn.Parameter(torch.empty((cfg.d_model, cfg.d_mlp)))\n",
    "        nn.init.normal_(self.W_in, std=self.cfg.init_range)\n",
    "        self.b_in = nn.Parameter(torch.zeros((cfg.d_mlp)))\n",
    "        self.W_out = nn.Parameter(torch.empty((cfg.d_mlp, cfg.d_model)))\n",
    "        nn.init.normal_(self.W_out, std=self.cfg.init_range)\n",
    "        self.b_out = nn.Parameter(torch.zeros((cfg.d_model)))\n",
    "\n",
    "    def forward(self, normalized_resid_mid):\n",
    "        # normalized_resid_mid: [batch, position, d_model]\n",
    "        # if self.cfg.debug: print(\"Normalized_resid_mid:\", normalized_resid_mid.shape)\n",
    "        pre = einsum(\"batch position d_model, d_model d_mlp -> batch position d_mlp\", normalized_resid_mid, self.W_in) + self.b_in\n",
    "        post = gelu_new(pre)\n",
    "        mlp_out = einsum(\"batch position d_mlp, d_mlp d_model -> batch position d_model\", post, self.W_out) + self.b_out\n",
    "        return mlp_out\n",
    "\n",
    "rand_float_test(MLP, [2, 4, 768])"
   ]
  },
  {
   "cell_type": "code",
   "execution_count": 37,
   "metadata": {
    "colab": {
     "base_uri": "https://localhost:8080/"
    },
    "executionInfo": {
     "elapsed": 16,
     "status": "ok",
     "timestamp": 1694938454186,
     "user": {
      "displayName": "Jed",
      "userId": "11553494090571428644"
     },
     "user_tz": -480
    },
    "id": "LSm20nJHvOhj",
    "outputId": "62411dec-6a6f-46ce-fc67-975e39eab97d",
    "ExecuteTime": {
     "end_time": "2023-09-17T16:07:15.130942Z",
     "start_time": "2023-09-17T16:07:14.991958Z"
    }
   },
   "outputs": [
    {
     "name": "stdout",
     "output_type": "stream",
     "text": [
      "Input shape: torch.Size([2, 4])\n",
      "Tokens: torch.Size([2, 4])\n",
      "pos_embed: torch.Size([2, 4, 768])\n",
      "Output shape: torch.Size([2, 4, 768])\n"
     ]
    },
    {
     "data": {
      "text/plain": "tensor([[[ 0.0073,  0.0249, -0.0099,  ...,  0.0178,  0.0282, -0.0433],\n         [-0.0008,  0.0033,  0.0023,  ..., -0.0084,  0.0018, -0.0210],\n         [-0.0092,  0.0175,  0.0208,  ..., -0.0210, -0.0081,  0.0201],\n         [-0.0040,  0.0416, -0.0110,  ...,  0.0071,  0.0244,  0.0157]],\n\n        [[ 0.0073,  0.0249, -0.0099,  ...,  0.0178,  0.0282, -0.0433],\n         [-0.0008,  0.0033,  0.0023,  ..., -0.0084,  0.0018, -0.0210],\n         [-0.0092,  0.0175,  0.0208,  ..., -0.0210, -0.0081,  0.0201],\n         [-0.0040,  0.0416, -0.0110,  ...,  0.0071,  0.0244,  0.0157]]],\n       grad_fn=<ReshapeAliasBackward0>)"
     },
     "execution_count": 37,
     "metadata": {},
     "output_type": "execute_result"
    }
   ],
   "source": [
    "class PosEmbed(nn.Module):\n",
    "    def __init__(self, cfg):\n",
    "        super().__init__()\n",
    "        self.cfg = cfg\n",
    "        self.W_pos = nn.Parameter(torch.empty((cfg.n_ctx, cfg.d_model)))\n",
    "        nn.init.normal_(self.W_pos, std=self.cfg.init_range)\n",
    "\n",
    "    def forward(self, tokens):\n",
    "        # tokens: [batch, position]\n",
    "        if self.cfg.debug: print(\"Tokens:\", tokens.shape)\n",
    "        pos_embed = self.W_pos[:tokens.size(1), :] # [position, d_model]\n",
    "        pos_embed = einops.repeat(pos_embed, \"position d_model -> batch position d_model\", batch=tokens.size(0))\n",
    "        if self.cfg.debug: print(\"pos_embed:\", pos_embed.shape)\n",
    "        return pos_embed\n",
    "\n",
    "rand_int_test(PosEmbed, [2, 4])"
   ]
  },
  {
   "cell_type": "code",
   "execution_count": 38,
   "metadata": {
    "id": "14X25QaJvQed",
    "ExecuteTime": {
     "end_time": "2023-09-17T16:07:15.556438Z",
     "start_time": "2023-09-17T16:07:15.553614Z"
    }
   },
   "outputs": [],
   "source": [
    "class LayerNorm(nn.Module):\n",
    "    def __init__(self, cfg):\n",
    "        super().__init__()\n",
    "        self.cfg = cfg\n",
    "        self.w = nn.Parameter(torch.ones(cfg.d_model))\n",
    "        self.b = nn.Parameter(torch.zeros(cfg.d_model))\n",
    "\n",
    "    def forward(self, residual):\n",
    "        # residual: [batch, position, d_model]\n",
    "        # if self.cfg.debug: print(\"Residual:\", residual.shape)\n",
    "        residual = residual - einops.reduce(residual, \"batch position d_model -> batch position 1\", \"mean\")\n",
    "        # Calculate the variance, square root it. Add in an epsilon to prevent divide by zero.\n",
    "        scale = (einops.reduce(residual.pow(2), \"batch position d_model -> batch position 1\", \"mean\") + cfg.layer_norm_eps).sqrt()\n",
    "        normalized = residual / scale\n",
    "        normalized = normalized * self.w + self.b\n",
    "        # if self.cfg.debug: print(\"Normalized:\", residual.shape)\n",
    "        return normalized"
   ]
  },
  {
   "cell_type": "code",
   "execution_count": 39,
   "metadata": {
    "colab": {
     "base_uri": "https://localhost:8080/"
    },
    "executionInfo": {
     "elapsed": 11,
     "status": "ok",
     "timestamp": 1694938454186,
     "user": {
      "displayName": "Jed",
      "userId": "11553494090571428644"
     },
     "user_tz": -480
    },
    "id": "Fds9qjaqvmKB",
    "outputId": "84cea8f4-5550-444d-96ae-333703f9a7f3",
    "ExecuteTime": {
     "end_time": "2023-09-17T16:07:16.157649Z",
     "start_time": "2023-09-17T16:07:16.123505Z"
    }
   },
   "outputs": [
    {
     "name": "stdout",
     "output_type": "stream",
     "text": [
      "Input shape: torch.Size([2, 4, 768])\n",
      "Normalized_resid_pre: torch.Size([2, 4, 768])\n",
      "Output shape: torch.Size([2, 4, 768])\n"
     ]
    },
    {
     "data": {
      "text/plain": "tensor([[[ 0.5883,  0.4072,  0.7434,  ...,  0.3714,  0.0497, -0.0960],\n         [ 0.2710,  0.3625,  0.1091,  ...,  0.0810, -0.0357, -0.4937],\n         [ 0.1203,  0.0571, -0.0880,  ...,  0.0924, -0.1721, -0.2260],\n         [ 0.1385,  0.0764, -0.1383,  ...,  0.0642, -0.0483, -0.3116]],\n\n        [[ 0.7955,  0.0508, -0.1467,  ..., -0.7288,  0.3035, -0.0901],\n         [ 0.4759, -0.0549, -0.0384,  ..., -0.2907,  0.2928, -0.3600],\n         [ 0.2403, -0.1736, -0.2889,  ..., -0.0220,  0.0970, -0.0989],\n         [ 0.3066, -0.0805, -0.1398,  ..., -0.1417,  0.1320, -0.0782]]],\n       grad_fn=<AddBackward0>)"
     },
     "execution_count": 39,
     "metadata": {},
     "output_type": "execute_result"
    }
   ],
   "source": [
    "class Attention(nn.Module):\n",
    "    def __init__(self, cfg):\n",
    "        super().__init__()\n",
    "        self.cfg = cfg\n",
    "        self.W_Q = nn.Parameter(torch.empty((cfg.n_heads, cfg.d_model, cfg.d_head)))\n",
    "        nn.init.normal_(self.W_Q, std=self.cfg.init_range)\n",
    "        self.b_Q = nn.Parameter(torch.zeros((cfg.n_heads, cfg.d_head)))\n",
    "        self.W_K = nn.Parameter(torch.empty((cfg.n_heads, cfg.d_model, cfg.d_head)))\n",
    "        nn.init.normal_(self.W_K, std=self.cfg.init_range)\n",
    "        self.b_K = nn.Parameter(torch.zeros((cfg.n_heads, cfg.d_head)))\n",
    "        self.W_V = nn.Parameter(torch.empty((cfg.n_heads, cfg.d_model, cfg.d_head)))\n",
    "        nn.init.normal_(self.W_V, std=self.cfg.init_range)\n",
    "        self.b_V = nn.Parameter(torch.zeros((cfg.n_heads, cfg.d_head)))\n",
    "\n",
    "        self.W_O = nn.Parameter(torch.empty((cfg.n_heads, cfg.d_head, cfg.d_model)))\n",
    "        nn.init.normal_(self.W_O, std=self.cfg.init_range)\n",
    "        self.b_O = nn.Parameter(torch.zeros((cfg.d_model)))\n",
    "\n",
    "        self.register_buffer(\"IGNORE\", torch.tensor(-1e5, dtype=torch.float32))\n",
    "\n",
    "    def forward(self, normalized_resid_pre):\n",
    "        # normalized_resid_pre: [batch, position, d_model]\n",
    "        if self.cfg.debug: print(\"Normalized_resid_pre:\", normalized_resid_pre.shape)\n",
    "\n",
    "        q = einsum(\"batch query_pos d_model, n_heads d_model d_head -> batch query_pos n_heads d_head\", normalized_resid_pre, self.W_Q) + self.b_Q\n",
    "        k = einsum(\"batch key_pos d_model, n_heads d_model d_head -> batch key_pos n_heads d_head\", normalized_resid_pre, self.W_K) + self.b_K\n",
    "\n",
    "        attn_scores = einsum(\"batch query_pos n_heads d_head, batch key_pos n_heads d_head -> batch n_heads query_pos key_pos\", q, k)\n",
    "        attn_scores = attn_scores / math.sqrt(self.cfg.d_head)\n",
    "        attn_scores = self.apply_causal_mask(attn_scores)\n",
    "\n",
    "        pattern = attn_scores.softmax(dim=-1) # [batch, n_head, query_pos, key_pos]\n",
    "\n",
    "        v = einsum(\"batch key_pos d_model, n_heads d_model d_head -> batch key_pos n_heads d_head\", normalized_resid_pre, self.W_V) + self.b_V\n",
    "\n",
    "        z = einsum(\"batch n_heads query_pos key_pos, batch key_pos n_heads d_head -> batch query_pos n_heads d_head\", pattern, v)\n",
    "\n",
    "        attn_out = einsum(\"batch query_pos n_heads d_head, n_heads d_head d_model -> batch query_pos d_model\", z, self.W_O) + self.b_O\n",
    "        return attn_out\n",
    "\n",
    "    def apply_causal_mask(self, attn_scores):\n",
    "        # attn_scores: [batch, n_heads, query_pos, key_pos]\n",
    "        mask = torch.triu(torch.ones(attn_scores.size(-2), attn_scores.size(-1), device=attn_scores.device), diagonal=1).bool()\n",
    "        attn_scores.masked_fill_(mask, self.IGNORE)\n",
    "        return attn_scores\n",
    "\n",
    "rand_float_test(Attention, [2, 4, 768])"
   ]
  },
  {
   "cell_type": "code",
   "execution_count": 40,
   "metadata": {
    "id": "_S6Kdsn9vntn",
    "ExecuteTime": {
     "end_time": "2023-09-17T16:07:16.942447Z",
     "start_time": "2023-09-17T16:07:16.930899Z"
    }
   },
   "outputs": [],
   "source": [
    "class FeedForward(nn.Module):\n",
    "    def __init__(self, embedding_dim, hidden_dim):\n",
    "        super(FeedForward, self).__init__()\n",
    "        self.fc1 = nn.Linear(embedding_dim, hidden_dim)\n",
    "        self.fc2 = nn.Linear(hidden_dim, embedding_dim)\n",
    "        self.relu = nn.ReLU()\n",
    "\n",
    "    def forward(self, x):\n",
    "        return self.fc2(self.relu(self.fc1(x)))"
   ]
  },
  {
   "cell_type": "code",
   "execution_count": 41,
   "metadata": {
    "colab": {
     "base_uri": "https://localhost:8080/"
    },
    "executionInfo": {
     "elapsed": 9,
     "status": "ok",
     "timestamp": 1694938454187,
     "user": {
      "displayName": "Jed",
      "userId": "11553494090571428644"
     },
     "user_tz": -480
    },
    "id": "bCDybZu0vsU0",
    "outputId": "7169d92f-b082-412c-e60f-ae282d5e7dae",
    "ExecuteTime": {
     "end_time": "2023-09-17T16:07:17.798666Z",
     "start_time": "2023-09-17T16:07:17.711253Z"
    }
   },
   "outputs": [
    {
     "name": "stdout",
     "output_type": "stream",
     "text": [
      "Input shape: torch.Size([2, 4, 768])\n",
      "Normalized_resid_pre: torch.Size([2, 4, 768])\n",
      "Output shape: torch.Size([2, 4, 768])\n"
     ]
    },
    {
     "data": {
      "text/plain": "tensor([[[ 0.6263, -0.4525, -0.2144,  ..., -0.2297,  0.9080,  1.2107],\n         [ 0.0373,  0.1283,  1.2095,  ...,  0.7652,  0.7788,  2.7103],\n         [ 0.1047, -0.1235,  0.2026,  ...,  1.2542, -0.5981,  2.6094],\n         [-1.3330,  1.6202,  0.6015,  ..., -0.7816,  0.4968,  0.0255]],\n\n        [[-1.7777, -0.5475,  0.9965,  ...,  1.2684,  0.5034,  0.0781],\n         [ 0.4971, -0.5653,  0.7481,  ...,  3.9081, -0.3278,  0.9421],\n         [ 0.7433, -0.7672,  0.2922,  ...,  1.0622,  0.0452,  1.1211],\n         [-0.5060, -1.8409, -0.1003,  ..., -0.5613, -0.3160,  0.8080]]],\n       grad_fn=<AddBackward0>)"
     },
     "execution_count": 41,
     "metadata": {},
     "output_type": "execute_result"
    }
   ],
   "source": [
    "class TransformerBlock(nn.Module):\n",
    "    def __init__(self, cfg):\n",
    "        super().__init__()\n",
    "        self.cfg = cfg\n",
    "\n",
    "        self.ln1 = LayerNorm(cfg)\n",
    "        self.attn = Attention(cfg)\n",
    "        self.ln2 = LayerNorm(cfg)\n",
    "        self.mlp = MLP(cfg)\n",
    "\n",
    "    def forward(self, resid_pre):\n",
    "        # resid_pre [batch, position, d_model]\n",
    "        normalized_resid_pre = self.ln1(resid_pre)\n",
    "        attn_out = self.attn(normalized_resid_pre)\n",
    "        resid_mid = resid_pre + attn_out\n",
    "\n",
    "        normalized_resid_mid = self.ln2(resid_mid)\n",
    "        mlp_out = self.mlp(normalized_resid_mid)\n",
    "        resid_post = resid_mid + mlp_out\n",
    "        return resid_post\n",
    "rand_float_test(TransformerBlock, [2, 4, 768])"
   ]
  },
  {
   "cell_type": "code",
   "execution_count": 42,
   "metadata": {
    "colab": {
     "base_uri": "https://localhost:8080/"
    },
    "executionInfo": {
     "elapsed": 489,
     "status": "ok",
     "timestamp": 1694938454670,
     "user": {
      "displayName": "Jed",
      "userId": "11553494090571428644"
     },
     "user_tz": -480
    },
    "id": "NafRt8m-wEUS",
    "outputId": "ee4c18ea-482f-40e9-d9bd-f0d6d87490cb",
    "ExecuteTime": {
     "end_time": "2023-09-17T16:07:19.017569Z",
     "start_time": "2023-09-17T16:07:18.538282Z"
    }
   },
   "outputs": [
    {
     "name": "stdout",
     "output_type": "stream",
     "text": [
      "Input shape: torch.Size([2, 4])\n",
      "Output shape: torch.Size([2, 4, 768])\n"
     ]
    },
    {
     "data": {
      "text/plain": "tensor([[[ 0.0510, -0.0019, -0.0130,  ...,  0.0188,  0.0114,  0.0218],\n         [-0.0120,  0.0063, -0.0195,  ..., -0.0316,  0.0137,  0.0178],\n         [-0.0075,  0.0239,  0.0104,  ...,  0.0303,  0.0098, -0.0036],\n         [ 0.0070,  0.0128,  0.0147,  ...,  0.0036, -0.0314, -0.0186]],\n\n        [[ 0.0268,  0.0023,  0.0467,  ...,  0.0229, -0.0345,  0.0034],\n         [ 0.0338, -0.0112,  0.0073,  ..., -0.0168,  0.0087,  0.0139],\n         [-0.0229,  0.0126,  0.0442,  ..., -0.0051,  0.0256, -0.0336],\n         [ 0.0049,  0.0242,  0.0134,  ...,  0.0158, -0.0133,  0.0236]]],\n       grad_fn=<IndexBackward0>)"
     },
     "execution_count": 42,
     "metadata": {},
     "output_type": "execute_result"
    }
   ],
   "source": [
    "class Embed(nn.Module):\n",
    "    def __init__(self, cfg):\n",
    "        super().__init__()\n",
    "        self.cfg = cfg\n",
    "        self.W_E = nn.Parameter(torch.empty((cfg.d_vocab, cfg.d_model)))\n",
    "        nn.init.normal_(self.W_E, std=self.cfg.init_range)\n",
    "\n",
    "    def forward(self, tokens):\n",
    "        # tokens: [batch, position]\n",
    "        # if self.cfg.debug: print(\"Tokens:\", tokens.shape)\n",
    "        embed = self.W_E[tokens, :] # [batch, position, d_model]\n",
    "        # if self.cfg.debug: print(\"Embeddings:\", embed.shape)\n",
    "        return embed\n",
    "\n",
    "rand_int_test(Embed, [2, 4])"
   ]
  },
  {
   "cell_type": "code",
   "execution_count": 43,
   "metadata": {
    "colab": {
     "base_uri": "https://localhost:8080/"
    },
    "executionInfo": {
     "elapsed": 8,
     "status": "ok",
     "timestamp": 1694938454670,
     "user": {
      "displayName": "Jed",
      "userId": "11553494090571428644"
     },
     "user_tz": -480
    },
    "id": "6w0jK-Izv9QE",
    "outputId": "4ff8a36a-9245-4496-bea8-e5cd9fc5ffd0",
    "ExecuteTime": {
     "end_time": "2023-09-17T16:07:20.682987Z",
     "start_time": "2023-09-17T16:07:20.190323Z"
    }
   },
   "outputs": [
    {
     "name": "stdout",
     "output_type": "stream",
     "text": [
      "Input shape: torch.Size([2, 4, 768])\n",
      "Normalized_resid_final: torch.Size([2, 4, 768])\n",
      "Output shape: torch.Size([2, 4, 50257])\n"
     ]
    },
    {
     "data": {
      "text/plain": "tensor([[[-0.0557, -0.9152, -0.1448,  ..., -0.6397,  0.5445, -0.1708],\n         [ 0.8018, -0.5568, -0.8694,  ...,  0.6254, -0.2636, -0.3345],\n         [-0.0671, -0.2100, -0.8385,  ...,  0.1795,  0.2128,  0.5714],\n         [-0.1715,  0.6015, -0.1744,  ...,  0.2500,  0.0871, -0.2267]],\n\n        [[ 0.7630, -0.3896,  0.7479,  ..., -0.0585, -0.3484, -0.2877],\n         [-0.2778,  0.2537,  0.8654,  ...,  0.7089,  0.2914, -0.6436],\n         [-0.3794, -1.1478,  1.0959,  ...,  0.2955,  0.3531,  0.8792],\n         [-0.6239,  0.6491,  0.1131,  ..., -0.5089,  0.0508, -0.4537]]],\n       grad_fn=<AddBackward0>)"
     },
     "execution_count": 43,
     "metadata": {},
     "output_type": "execute_result"
    }
   ],
   "source": [
    "class Unembed(nn.Module):\n",
    "    def __init__(self, cfg):\n",
    "        super().__init__()\n",
    "        self.cfg = cfg\n",
    "        self.W_U = nn.Parameter(torch.empty((cfg.d_model, cfg.d_vocab)))\n",
    "        nn.init.normal_(self.W_U, std=self.cfg.init_range)\n",
    "        self.b_U = nn.Parameter(torch.zeros((cfg.d_vocab), requires_grad=False))\n",
    "\n",
    "    def forward(self, normalized_resid_final):\n",
    "        # normalized_resid_final [batch, position, d_model]\n",
    "        if self.cfg.debug: print(\"Normalized_resid_final:\", normalized_resid_final.shape)\n",
    "        logits = einsum(\"batch position d_model, d_model d_vocab -> batch position d_vocab\", normalized_resid_final, self.W_U) + self.b_U\n",
    "        return logits\n",
    "\n",
    "rand_float_test(Unembed, [2, 4, 768])"
   ]
  },
  {
   "cell_type": "code",
   "execution_count": 44,
   "metadata": {
    "colab": {
     "base_uri": "https://localhost:8080/"
    },
    "executionInfo": {
     "elapsed": 1447,
     "status": "ok",
     "timestamp": 1694938456113,
     "user": {
      "displayName": "Jed",
      "userId": "11553494090571428644"
     },
     "user_tz": -480
    },
    "id": "uZ-qCo57vt8D",
    "outputId": "ac94a3cd-3176-4a8c-9c1c-11b730516c7c",
    "ExecuteTime": {
     "end_time": "2023-09-17T16:07:26.674272Z",
     "start_time": "2023-09-17T16:07:24.609606Z"
    }
   },
   "outputs": [
    {
     "name": "stdout",
     "output_type": "stream",
     "text": [
      "Input shape: torch.Size([2, 4])\n",
      "Tokens: torch.Size([2, 4])\n",
      "pos_embed: torch.Size([2, 4, 768])\n",
      "Normalized_resid_pre: torch.Size([2, 4, 768])\n",
      "Normalized_resid_pre: torch.Size([2, 4, 768])\n",
      "Normalized_resid_pre: torch.Size([2, 4, 768])\n",
      "Normalized_resid_pre: torch.Size([2, 4, 768])\n",
      "Normalized_resid_pre: torch.Size([2, 4, 768])\n",
      "Normalized_resid_pre: torch.Size([2, 4, 768])\n",
      "Normalized_resid_pre: torch.Size([2, 4, 768])\n",
      "Normalized_resid_pre: torch.Size([2, 4, 768])\n",
      "Normalized_resid_pre: torch.Size([2, 4, 768])\n",
      "Normalized_resid_pre: torch.Size([2, 4, 768])\n",
      "Normalized_resid_pre: torch.Size([2, 4, 768])\n",
      "Normalized_resid_pre: torch.Size([2, 4, 768])\n",
      "Normalized_resid_final: torch.Size([2, 4, 768])\n",
      "Output shape: torch.Size([2, 4, 50257])\n"
     ]
    },
    {
     "data": {
      "text/plain": "tensor([[[-0.5213, -0.8311, -0.0675,  ..., -0.5825,  0.0222, -0.1156],\n         [-0.1897, -0.7643,  0.4709,  ..., -0.1320,  0.0366, -0.5127],\n         [-0.1808, -0.8806,  0.4033,  ..., -0.3110,  0.2349, -0.3973],\n         [-0.2245, -1.1128,  0.6590,  ..., -0.0811,  0.2280, -0.2946]],\n\n        [[ 0.4035, -0.7987, -0.2036,  ..., -0.1238,  0.4460, -0.1607],\n         [ 0.2073, -0.6002, -0.2648,  ...,  0.0331,  0.1240,  0.1212],\n         [ 0.2192, -0.8463,  0.1544,  ...,  0.2274,  0.1696, -0.0165],\n         [ 0.2839, -0.6639,  0.3670,  ...,  0.1804, -0.1207,  0.1614]]],\n       grad_fn=<AddBackward0>)"
     },
     "execution_count": 44,
     "metadata": {},
     "output_type": "execute_result"
    }
   ],
   "source": [
    "class GPT2(nn.Module):\n",
    "    def __init__(self, cfg):\n",
    "        super().__init__()\n",
    "        self.cfg = cfg\n",
    "        self.embed = Embed(cfg)\n",
    "        self.pos_embed = PosEmbed(cfg)\n",
    "        self.blocks = nn.ModuleList([TransformerBlock(cfg) for _ in range(cfg.n_layers)])\n",
    "        self.ln_final = LayerNorm(cfg)\n",
    "        self.unembed = Unembed(cfg)\n",
    "\n",
    "    def forward(self, tokens):\n",
    "        # tokens [batch, position]\n",
    "        embed = self.embed(tokens)\n",
    "        pos_embed = self.pos_embed(tokens)\n",
    "        residual = embed + pos_embed\n",
    "        for block in self.blocks:\n",
    "            residual = block(residual)\n",
    "        normalized_resid_final = self.ln_final(residual)\n",
    "        logits = self.unembed(normalized_resid_final)\n",
    "        # logits have shape [batch, position, logits]\n",
    "        return logits\n",
    "\n",
    "rand_int_test(GPT2, [2, 4])"
   ]
  },
  {
   "cell_type": "code",
   "execution_count": 45,
   "metadata": {
    "colab": {
     "base_uri": "https://localhost:8080/"
    },
    "executionInfo": {
     "elapsed": 18687,
     "status": "ok",
     "timestamp": 1694938474795,
     "user": {
      "displayName": "Jed",
      "userId": "11553494090571428644"
     },
     "user_tz": -480
    },
    "id": "g7FYCg2owgm9",
    "outputId": "200928cd-f91e-4126-af83-20bce84d0647",
    "ExecuteTime": {
     "end_time": "2023-09-17T16:07:26.790411Z",
     "start_time": "2023-09-17T16:07:26.785594Z"
    }
   },
   "outputs": [],
   "source": [
    "# !pip install lightning"
   ]
  },
  {
   "cell_type": "code",
   "execution_count": 46,
   "metadata": {
    "id": "t71ZFU_9v_sq",
    "ExecuteTime": {
     "end_time": "2023-09-17T16:07:28.041211Z",
     "start_time": "2023-09-17T16:07:28.030605Z"
    }
   },
   "outputs": [],
   "source": [
    "import torch.optim as optim\n",
    "import torch.nn.functional as F\n",
    "from transformers import GPT2Tokenizer, TextDataset, DataCollatorForLanguageModeling\n",
    "import pytorch_lightning as pl\n",
    "import torchmetrics"
   ]
  },
  {
   "cell_type": "code",
   "execution_count": 47,
   "metadata": {
    "id": "c0_PzakiwUFU",
    "ExecuteTime": {
     "end_time": "2023-09-17T16:07:29.316824Z",
     "start_time": "2023-09-17T16:07:29.307655Z"
    }
   },
   "outputs": [],
   "source": [
    "# define model hyperparameters\n",
    "# vocab_size = 50257 + 1 # Add 1 for the padding token\n",
    "# vocab_size = vocab_size_from_imdb + 1\n",
    "vocab_size = cfg.d_vocab\n",
    "num_heads = cfg.n_heads\n",
    "hidden_dim = 768\n",
    "num_layers = cfg.n_layers\n",
    "embedding_dim = cfg.d_model"
   ]
  },
  {
   "cell_type": "code",
   "execution_count": 48,
   "metadata": {
    "colab": {
     "base_uri": "https://localhost:8080/"
    },
    "executionInfo": {
     "elapsed": 13,
     "status": "ok",
     "timestamp": 1694938476925,
     "user": {
      "displayName": "Jed",
      "userId": "11553494090571428644"
     },
     "user_tz": -480
    },
    "id": "-C0k8GuAJ2sK",
    "outputId": "7b03cb8e-1035-4a8c-f85b-e15e7358a362",
    "ExecuteTime": {
     "end_time": "2023-09-17T16:07:30.326314Z",
     "start_time": "2023-09-17T16:07:30.316191Z"
    }
   },
   "outputs": [
    {
     "data": {
      "text/plain": "50257"
     },
     "execution_count": 48,
     "metadata": {},
     "output_type": "execute_result"
    }
   ],
   "source": [
    "vocab_size"
   ]
  },
  {
   "cell_type": "code",
   "execution_count": 49,
   "metadata": {
    "colab": {
     "base_uri": "https://localhost:8080/"
    },
    "executionInfo": {
     "elapsed": 11,
     "status": "ok",
     "timestamp": 1694938476925,
     "user": {
      "displayName": "Jed",
      "userId": "11553494090571428644"
     },
     "user_tz": -480
    },
    "id": "K1pn-PFswnrW",
    "outputId": "3d5b8a9a-a26a-457d-b3f0-ac72c13ba5b6",
    "ExecuteTime": {
     "end_time": "2023-09-17T16:07:30.674837Z",
     "start_time": "2023-09-17T16:07:30.671384Z"
    }
   },
   "outputs": [
    {
     "name": "stdout",
     "output_type": "stream",
     "text": [
      "Hyperparameters are set correctly!\n"
     ]
    }
   ],
   "source": [
    "def sanity_check_hyperparameters(embedding_dim, num_heads):\n",
    "    if embedding_dim % num_heads != 0:\n",
    "        raise ValueError(f\"embedding_dim ({embedding_dim}) must be divisible by num_heads ({num_heads}).\")\n",
    "    print(\"Hyperparameters are set correctly!\")\n",
    "\n",
    "# Example usage\n",
    "sanity_check_hyperparameters(embedding_dim, num_heads)"
   ]
  },
  {
   "cell_type": "code",
   "execution_count": 50,
   "metadata": {
    "id": "hZfVhf67wqpU",
    "ExecuteTime": {
     "end_time": "2023-09-17T16:07:32.043248Z",
     "start_time": "2023-09-17T16:07:32.033528Z"
    }
   },
   "outputs": [],
   "source": [
    "def lm_cross_entropy_loss(logits, tokens):\n",
    "    # Measure next token loss\n",
    "    # Logits have shape [batch, position, d_vocab]\n",
    "    # Tokens have shape [batch, position]\n",
    "    log_probs = logits.log_softmax(dim=-1)\n",
    "    pred_log_probs = log_probs[:, :-1].gather(dim=-1, index=tokens[:, 1:].unsqueeze(-1)).squeeze(-1)\n",
    "    return -pred_log_probs.mean()"
   ]
  },
  {
   "cell_type": "code",
   "execution_count": 51,
   "metadata": {
    "id": "Dz0vnQ_Qwyjk",
    "ExecuteTime": {
     "end_time": "2023-09-17T16:07:35.027249Z",
     "start_time": "2023-09-17T16:07:33.020635Z"
    }
   },
   "outputs": [],
   "source": [
    "model = GPT2(cfg)\n",
    "optimizer = optim.SGD(model.parameters(), lr=0.001, momentum=0.9)"
   ]
  },
  {
   "cell_type": "markdown",
   "metadata": {
    "id": "iI07xqdHy2cO"
   },
   "source": [
    "## Load the dataset"
   ]
  },
  {
   "cell_type": "code",
   "execution_count": 52,
   "metadata": {
    "id": "Ebrozzc1Kgkg",
    "ExecuteTime": {
     "end_time": "2023-09-17T16:07:35.149570Z",
     "start_time": "2023-09-17T16:07:35.028086Z"
    }
   },
   "outputs": [
    {
     "name": "stdout",
     "output_type": "stream",
     "text": [
      "CSV file successfully loaded!\n"
     ]
    }
   ],
   "source": [
    "from datasets import load_dataset\n",
    "import torch\n",
    "import torch.nn as nn\n",
    "import torch.optim as optim\n",
    "import numpy as np\n",
    "from datasets import load_dataset, Dataset\n",
    "import pandas as pd\n",
    "import matplotlib.pyplot as plt\n",
    "\n",
    "def load_mt_kaggle_csv(filepath):\n",
    "    \"\"\"Load a CSV file into a Pandas DataFrame.\"\"\"\n",
    "    try:\n",
    "        df = pd.read_csv(filepath)\n",
    "        print(\"CSV file successfully loaded!\")\n",
    "        return df\n",
    "    except Exception as e:\n",
    "        print(f\"Error occurred: {e}\")\n",
    "        return None\n",
    "    \n",
    "df = load_mt_kaggle_csv('data/mtsamples.csv')\n",
    "df = df.dropna(subset=['transcription'])\n",
    "transcription_df = df[['transcription']]"
   ]
  },
  {
   "cell_type": "code",
   "execution_count": 53,
   "outputs": [
    {
     "data": {
      "text/plain": "Map:   0%|          | 0/4966 [00:00<?, ? examples/s]",
      "application/vnd.jupyter.widget-view+json": {
       "version_major": 2,
       "version_minor": 0,
       "model_id": "8c3bcc7391ea4fd3a4213003ff2cd015"
      }
     },
     "metadata": {},
     "output_type": "display_data"
    }
   ],
   "source": [
    "from datasets import Features, Value\n",
    "\n",
    "def tokenize_function(examples):\n",
    "    # Add the eos_token to each transcription\n",
    "    transcriptions_with_eos = [t + tokenizer.eos_token for t in examples['transcription']]\n",
    "    \n",
    "    # Tokenize using the tokenizer\n",
    "    tokens = tokenizer(transcriptions_with_eos, padding='max_length', truncation=True, max_length=512, return_tensors=\"pt\")\n",
    "    \n",
    "    return tokens\n",
    "\n",
    "dataset = Dataset.from_pandas(transcription_df)\n",
    "tokenized_datasets = dataset.map(tokenize_function, batched=True)"
   ],
   "metadata": {
    "collapsed": false,
    "ExecuteTime": {
     "end_time": "2023-09-17T16:07:38.639677Z",
     "start_time": "2023-09-17T16:07:36.804996Z"
    }
   }
  },
  {
   "cell_type": "code",
   "execution_count": 54,
   "outputs": [],
   "source": [
    "from torch.utils.data import DataLoader\n",
    "\n",
    "# Ensure the data format is set correctly\n",
    "tokenized_datasets.set_format(type='torch', columns=['input_ids'])\n",
    "\n",
    "# Create the DataLoader\n",
    "train_dataloader = DataLoader(tokenized_datasets, shuffle=True, batch_size=BATCH_SIZE, num_workers=0)"
   ],
   "metadata": {
    "collapsed": false,
    "ExecuteTime": {
     "end_time": "2023-09-17T16:07:39.375659Z",
     "start_time": "2023-09-17T16:07:39.346496Z"
    }
   }
  },
  {
   "cell_type": "code",
   "execution_count": 55,
   "outputs": [
    {
     "name": "stdout",
     "output_type": "stream",
     "text": [
      "Sanity check passed!\n"
     ]
    }
   ],
   "source": [
    "# Sanity Check\n",
    "# Iterate over a single batch from the train_dataloader\n",
    "for batch in train_dataloader:\n",
    "    input_ids = batch['input_ids']\n",
    "    \n",
    "    # Check tensor size\n",
    "    assert input_ids.size() == (BATCH_SIZE, 512), f\"Expected size ({BATCH_SIZE}, 512), but got {input_ids.size()}\"\n",
    "    \n",
    "    # Check tensor stride\n",
    "    assert input_ids.stride() == (512, 1), f\"Expected stride (512, 1), but got {input_ids.stride()}\"\n",
    "    \n",
    "    print(\"Sanity check passed!\")\n",
    "    break  # We only want to check one batch for this sanity check\n"
   ],
   "metadata": {
    "collapsed": false,
    "ExecuteTime": {
     "end_time": "2023-09-17T16:07:50.739736Z",
     "start_time": "2023-09-17T16:07:50.717966Z"
    }
   }
  },
  {
   "cell_type": "code",
   "execution_count": 56,
   "outputs": [],
   "source": [
    "import pytorch_lightning as pl\n",
    "import torch.optim as optim\n",
    "\n",
    "class GPT2ReviewModel(pl.LightningModule):\n",
    "    def __init__(self, model, tokenizer, loss_fn, learning_rate=3e-4):\n",
    "        super(GPT2ReviewModel, self).__init__()\n",
    "        self.model = model\n",
    "        self.tokenizer = tokenizer\n",
    "        self.loss_fn = loss_fn\n",
    "        self.learning_rate = learning_rate\n",
    "\n",
    "    def forward(self, input_data, mask):\n",
    "        return self.model(input_data, attention_mask=mask)\n",
    "\n",
    "    def training_step(self, batch, batch_idx):\n",
    "        input_data = batch[\"input_ids\"][:, :-1]\n",
    "        targets = batch[\"input_ids\"][:, 1:]\n",
    "        \n",
    "        mask = (input_data != self.tokenizer.pad_token_id).float().unsqueeze(1).unsqueeze(2)\n",
    "        \n",
    "        outputs = self(input_data, mask)\n",
    "        logits = outputs.logits\n",
    "        logits = logits.view(-1, logits.shape[2])\n",
    "        targets = targets.contiguous().view(-1)  # Ensure the tensor is contiguous\n",
    "        \n",
    "        loss = self.loss_fn(logits, targets)\n",
    "        return loss\n",
    "\n",
    "    def configure_optimizers(self):\n",
    "        optimizer = optim.SGD(model.parameters(), lr=0.001, momentum=0.9)\n",
    "        return optimizer\n"
   ],
   "metadata": {
    "collapsed": false,
    "ExecuteTime": {
     "end_time": "2023-09-17T16:09:04.089228Z",
     "start_time": "2023-09-17T16:09:04.082226Z"
    }
   }
  },
  {
   "cell_type": "code",
   "execution_count": null,
   "outputs": [],
   "source": [
    "import pytorch_lightning as pl\n",
    "\n",
    "loss_fn = nn.CrossEntropyLoss()\n",
    "model_instance = GPT2ReviewModel(model, tokenizer, loss_fn)\n",
    "\n",
    "trainer = pl.Trainer(max_epochs=1)  \n",
    "trainer.fit(model_instance, train_dataloader)"
   ],
   "metadata": {
    "collapsed": false
   }
  }
 ],
 "metadata": {
  "colab": {
   "provenance": [
    {
     "file_id": "17qYV1Lq9_MBTugq9TZPSRI8NCFUcaqzb",
     "timestamp": 1694948641201
    },
    {
     "file_id": "https://github.com/neelnanda-io/Easy-Transformer/blob/clean-transformer-demo/Clean_Transformer_Demo.ipynb",
     "timestamp": 1694869036691
    }
   ]
  },
  "kernelspec": {
   "display_name": "Python 3 (ipykernel)",
   "language": "python",
   "name": "python3"
  },
  "language_info": {
   "codemirror_mode": {
    "name": "ipython",
    "version": 3
   },
   "file_extension": ".py",
   "mimetype": "text/x-python",
   "name": "python",
   "nbconvert_exporter": "python",
   "pygments_lexer": "ipython3",
   "version": "3.11.4"
  },
  "vscode": {
   "interpreter": {
    "hash": "d4d1e4263499bec80672ea0156c357c1ee493ec2b1c70f0acce89fc37c4a6abe"
   }
  },
  "widgets": {
   "application/vnd.jupyter.widget-state+json": {
    "017369117d5c459c82336d2d506c96a8": {
     "model_module": "@jupyter-widgets/base",
     "model_module_version": "1.2.0",
     "model_name": "LayoutModel",
     "state": {
      "_model_module": "@jupyter-widgets/base",
      "_model_module_version": "1.2.0",
      "_model_name": "LayoutModel",
      "_view_count": null,
      "_view_module": "@jupyter-widgets/base",
      "_view_module_version": "1.2.0",
      "_view_name": "LayoutView",
      "align_content": null,
      "align_items": null,
      "align_self": null,
      "border": null,
      "bottom": null,
      "display": null,
      "flex": null,
      "flex_flow": null,
      "grid_area": null,
      "grid_auto_columns": null,
      "grid_auto_flow": null,
      "grid_auto_rows": null,
      "grid_column": null,
      "grid_gap": null,
      "grid_row": null,
      "grid_template_areas": null,
      "grid_template_columns": null,
      "grid_template_rows": null,
      "height": null,
      "justify_content": null,
      "justify_items": null,
      "left": null,
      "margin": null,
      "max_height": null,
      "max_width": null,
      "min_height": null,
      "min_width": null,
      "object_fit": null,
      "object_position": null,
      "order": null,
      "overflow": null,
      "overflow_x": null,
      "overflow_y": null,
      "padding": null,
      "right": null,
      "top": null,
      "visibility": null,
      "width": null
     }
    },
    "09931bd2fd514da4a6e82b798e2ebb4d": {
     "model_module": "@jupyter-widgets/controls",
     "model_module_version": "1.5.0",
     "model_name": "HTMLModel",
     "state": {
      "_dom_classes": [],
      "_model_module": "@jupyter-widgets/controls",
      "_model_module_version": "1.5.0",
      "_model_name": "HTMLModel",
      "_view_count": null,
      "_view_module": "@jupyter-widgets/controls",
      "_view_module_version": "1.5.0",
      "_view_name": "HTMLView",
      "description": "",
      "description_tooltip": null,
      "layout": "IPY_MODEL_15887b6916474cc6a94fd7feb07d9aad",
      "placeholder": "​",
      "style": "IPY_MODEL_efc126bf278c46ffbbfaa5978a58f70f",
      "value": "Epoch 0:   0%"
     }
    },
    "13539adc604e48e3aefd01374a4bb3f7": {
     "model_module": "@jupyter-widgets/controls",
     "model_module_version": "1.5.0",
     "model_name": "FloatProgressModel",
     "state": {
      "_dom_classes": [],
      "_model_module": "@jupyter-widgets/controls",
      "_model_module_version": "1.5.0",
      "_model_name": "FloatProgressModel",
      "_view_count": null,
      "_view_module": "@jupyter-widgets/controls",
      "_view_module_version": "1.5.0",
      "_view_name": "ProgressView",
      "bar_style": "success",
      "description": "",
      "description_tooltip": null,
      "layout": "IPY_MODEL_57e9242e07ce4d12b56c67d1a92e20be",
      "max": 1355256,
      "min": 0,
      "orientation": "horizontal",
      "style": "IPY_MODEL_20423cbfcbb74f5f9c485b24b5eb14b4",
      "value": 1355256
     }
    },
    "15887b6916474cc6a94fd7feb07d9aad": {
     "model_module": "@jupyter-widgets/base",
     "model_module_version": "1.2.0",
     "model_name": "LayoutModel",
     "state": {
      "_model_module": "@jupyter-widgets/base",
      "_model_module_version": "1.2.0",
      "_model_name": "LayoutModel",
      "_view_count": null,
      "_view_module": "@jupyter-widgets/base",
      "_view_module_version": "1.2.0",
      "_view_name": "LayoutView",
      "align_content": null,
      "align_items": null,
      "align_self": null,
      "border": null,
      "bottom": null,
      "display": null,
      "flex": null,
      "flex_flow": null,
      "grid_area": null,
      "grid_auto_columns": null,
      "grid_auto_flow": null,
      "grid_auto_rows": null,
      "grid_column": null,
      "grid_gap": null,
      "grid_row": null,
      "grid_template_areas": null,
      "grid_template_columns": null,
      "grid_template_rows": null,
      "height": null,
      "justify_content": null,
      "justify_items": null,
      "left": null,
      "margin": null,
      "max_height": null,
      "max_width": null,
      "min_height": null,
      "min_width": null,
      "object_fit": null,
      "object_position": null,
      "order": null,
      "overflow": null,
      "overflow_x": null,
      "overflow_y": null,
      "padding": null,
      "right": null,
      "top": null,
      "visibility": null,
      "width": null
     }
    },
    "20423cbfcbb74f5f9c485b24b5eb14b4": {
     "model_module": "@jupyter-widgets/controls",
     "model_module_version": "1.5.0",
     "model_name": "ProgressStyleModel",
     "state": {
      "_model_module": "@jupyter-widgets/controls",
      "_model_module_version": "1.5.0",
      "_model_name": "ProgressStyleModel",
      "_view_count": null,
      "_view_module": "@jupyter-widgets/base",
      "_view_module_version": "1.2.0",
      "_view_name": "StyleView",
      "bar_color": null,
      "description_width": ""
     }
    },
    "24afca2d0daf4be1b713b5a6722c051d": {
     "model_module": "@jupyter-widgets/controls",
     "model_module_version": "1.5.0",
     "model_name": "ProgressStyleModel",
     "state": {
      "_model_module": "@jupyter-widgets/controls",
      "_model_module_version": "1.5.0",
      "_model_name": "ProgressStyleModel",
      "_view_count": null,
      "_view_module": "@jupyter-widgets/base",
      "_view_module_version": "1.2.0",
      "_view_name": "StyleView",
      "bar_color": null,
      "description_width": ""
     }
    },
    "25ddcbbd77b44422a479e72040f9878c": {
     "model_module": "@jupyter-widgets/controls",
     "model_module_version": "1.5.0",
     "model_name": "HTMLModel",
     "state": {
      "_dom_classes": [],
      "_model_module": "@jupyter-widgets/controls",
      "_model_module_version": "1.5.0",
      "_model_name": "HTMLModel",
      "_view_count": null,
      "_view_module": "@jupyter-widgets/controls",
      "_view_module_version": "1.5.0",
      "_view_name": "HTMLView",
      "description": "",
      "description_tooltip": null,
      "layout": "IPY_MODEL_f90f3ca7029a45b9b89a47cb2b988764",
      "placeholder": "​",
      "style": "IPY_MODEL_36806561cf7c467ab801daac76408faf",
      "value": "Downloading (…)/main/tokenizer.json: 100%"
     }
    },
    "2663de6272c2468386ff5bb440d77f84": {
     "model_module": "@jupyter-widgets/base",
     "model_module_version": "1.2.0",
     "model_name": "LayoutModel",
     "state": {
      "_model_module": "@jupyter-widgets/base",
      "_model_module_version": "1.2.0",
      "_model_name": "LayoutModel",
      "_view_count": null,
      "_view_module": "@jupyter-widgets/base",
      "_view_module_version": "1.2.0",
      "_view_name": "LayoutView",
      "align_content": null,
      "align_items": null,
      "align_self": null,
      "border": null,
      "bottom": null,
      "display": "inline-flex",
      "flex": null,
      "flex_flow": "row wrap",
      "grid_area": null,
      "grid_auto_columns": null,
      "grid_auto_flow": null,
      "grid_auto_rows": null,
      "grid_column": null,
      "grid_gap": null,
      "grid_row": null,
      "grid_template_areas": null,
      "grid_template_columns": null,
      "grid_template_rows": null,
      "height": null,
      "justify_content": null,
      "justify_items": null,
      "left": null,
      "margin": null,
      "max_height": null,
      "max_width": null,
      "min_height": null,
      "min_width": null,
      "object_fit": null,
      "object_position": null,
      "order": null,
      "overflow": null,
      "overflow_x": null,
      "overflow_y": null,
      "padding": null,
      "right": null,
      "top": null,
      "visibility": null,
      "width": "100%"
     }
    },
    "29e078f5489b4dd1b4addee0b0634e95": {
     "model_module": "@jupyter-widgets/base",
     "model_module_version": "1.2.0",
     "model_name": "LayoutModel",
     "state": {
      "_model_module": "@jupyter-widgets/base",
      "_model_module_version": "1.2.0",
      "_model_name": "LayoutModel",
      "_view_count": null,
      "_view_module": "@jupyter-widgets/base",
      "_view_module_version": "1.2.0",
      "_view_name": "LayoutView",
      "align_content": null,
      "align_items": null,
      "align_self": null,
      "border": null,
      "bottom": null,
      "display": null,
      "flex": null,
      "flex_flow": null,
      "grid_area": null,
      "grid_auto_columns": null,
      "grid_auto_flow": null,
      "grid_auto_rows": null,
      "grid_column": null,
      "grid_gap": null,
      "grid_row": null,
      "grid_template_areas": null,
      "grid_template_columns": null,
      "grid_template_rows": null,
      "height": null,
      "justify_content": null,
      "justify_items": null,
      "left": null,
      "margin": null,
      "max_height": null,
      "max_width": null,
      "min_height": null,
      "min_width": null,
      "object_fit": null,
      "object_position": null,
      "order": null,
      "overflow": null,
      "overflow_x": null,
      "overflow_y": null,
      "padding": null,
      "right": null,
      "top": null,
      "visibility": null,
      "width": null
     }
    },
    "2b0127af8cec47a4bbff858f4be7af6e": {
     "model_module": "@jupyter-widgets/controls",
     "model_module_version": "1.5.0",
     "model_name": "HTMLModel",
     "state": {
      "_dom_classes": [],
      "_model_module": "@jupyter-widgets/controls",
      "_model_module_version": "1.5.0",
      "_model_name": "HTMLModel",
      "_view_count": null,
      "_view_module": "@jupyter-widgets/controls",
      "_view_module_version": "1.5.0",
      "_view_name": "HTMLView",
      "description": "",
      "description_tooltip": null,
      "layout": "IPY_MODEL_9b22bee16f7f41de8dd178095ba028fb",
      "placeholder": "​",
      "style": "IPY_MODEL_7e2d9aa7a5f046d38e023b22ad2d84e7",
      "value": "Downloading (…)olve/main/merges.txt: 100%"
     }
    },
    "2ee6586be85a47c18b7d49b8e07bda83": {
     "model_module": "@jupyter-widgets/base",
     "model_module_version": "1.2.0",
     "model_name": "LayoutModel",
     "state": {
      "_model_module": "@jupyter-widgets/base",
      "_model_module_version": "1.2.0",
      "_model_name": "LayoutModel",
      "_view_count": null,
      "_view_module": "@jupyter-widgets/base",
      "_view_module_version": "1.2.0",
      "_view_name": "LayoutView",
      "align_content": null,
      "align_items": null,
      "align_self": null,
      "border": null,
      "bottom": null,
      "display": null,
      "flex": null,
      "flex_flow": null,
      "grid_area": null,
      "grid_auto_columns": null,
      "grid_auto_flow": null,
      "grid_auto_rows": null,
      "grid_column": null,
      "grid_gap": null,
      "grid_row": null,
      "grid_template_areas": null,
      "grid_template_columns": null,
      "grid_template_rows": null,
      "height": null,
      "justify_content": null,
      "justify_items": null,
      "left": null,
      "margin": null,
      "max_height": null,
      "max_width": null,
      "min_height": null,
      "min_width": null,
      "object_fit": null,
      "object_position": null,
      "order": null,
      "overflow": null,
      "overflow_x": null,
      "overflow_y": null,
      "padding": null,
      "right": null,
      "top": null,
      "visibility": null,
      "width": null
     }
    },
    "3200d3e4ed3144f3a21e92d68ad38958": {
     "model_module": "@jupyter-widgets/controls",
     "model_module_version": "1.5.0",
     "model_name": "HBoxModel",
     "state": {
      "_dom_classes": [],
      "_model_module": "@jupyter-widgets/controls",
      "_model_module_version": "1.5.0",
      "_model_name": "HBoxModel",
      "_view_count": null,
      "_view_module": "@jupyter-widgets/controls",
      "_view_module_version": "1.5.0",
      "_view_name": "HBoxView",
      "box_style": "",
      "children": [
       "IPY_MODEL_09931bd2fd514da4a6e82b798e2ebb4d",
       "IPY_MODEL_af67fac1424a48058e9c3ec583f180db",
       "IPY_MODEL_9d501b2fadb347699749531b0bfceac5"
      ],
      "layout": "IPY_MODEL_2663de6272c2468386ff5bb440d77f84"
     }
    },
    "36806561cf7c467ab801daac76408faf": {
     "model_module": "@jupyter-widgets/controls",
     "model_module_version": "1.5.0",
     "model_name": "DescriptionStyleModel",
     "state": {
      "_model_module": "@jupyter-widgets/controls",
      "_model_module_version": "1.5.0",
      "_model_name": "DescriptionStyleModel",
      "_view_count": null,
      "_view_module": "@jupyter-widgets/base",
      "_view_module_version": "1.2.0",
      "_view_name": "StyleView",
      "description_width": ""
     }
    },
    "4106ed711f314862bb3ee00e08c7b16c": {
     "model_module": "@jupyter-widgets/controls",
     "model_module_version": "1.5.0",
     "model_name": "HTMLModel",
     "state": {
      "_dom_classes": [],
      "_model_module": "@jupyter-widgets/controls",
      "_model_module_version": "1.5.0",
      "_model_name": "HTMLModel",
      "_view_count": null,
      "_view_module": "@jupyter-widgets/controls",
      "_view_module_version": "1.5.0",
      "_view_name": "HTMLView",
      "description": "",
      "description_tooltip": null,
      "layout": "IPY_MODEL_f2242ce8ac7a45b1a5c93f760484bc55",
      "placeholder": "​",
      "style": "IPY_MODEL_ba1e3fc9f77141a6a4d83e118a6e6bd7",
      "value": "Downloading (…)lve/main/config.json: 100%"
     }
    },
    "44c797b28d504872a975faae9f8e46ac": {
     "model_module": "@jupyter-widgets/controls",
     "model_module_version": "1.5.0",
     "model_name": "ProgressStyleModel",
     "state": {
      "_model_module": "@jupyter-widgets/controls",
      "_model_module_version": "1.5.0",
      "_model_name": "ProgressStyleModel",
      "_view_count": null,
      "_view_module": "@jupyter-widgets/base",
      "_view_module_version": "1.2.0",
      "_view_name": "StyleView",
      "bar_color": null,
      "description_width": ""
     }
    },
    "49b724fb2d4d43c5835c520e4eb26865": {
     "model_module": "@jupyter-widgets/controls",
     "model_module_version": "1.5.0",
     "model_name": "DescriptionStyleModel",
     "state": {
      "_model_module": "@jupyter-widgets/controls",
      "_model_module_version": "1.5.0",
      "_model_name": "DescriptionStyleModel",
      "_view_count": null,
      "_view_module": "@jupyter-widgets/base",
      "_view_module_version": "1.2.0",
      "_view_name": "StyleView",
      "description_width": ""
     }
    },
    "4d102f14c061484abb596d48480037f7": {
     "model_module": "@jupyter-widgets/controls",
     "model_module_version": "1.5.0",
     "model_name": "HTMLModel",
     "state": {
      "_dom_classes": [],
      "_model_module": "@jupyter-widgets/controls",
      "_model_module_version": "1.5.0",
      "_model_name": "HTMLModel",
      "_view_count": null,
      "_view_module": "@jupyter-widgets/controls",
      "_view_module_version": "1.5.0",
      "_view_name": "HTMLView",
      "description": "",
      "description_tooltip": null,
      "layout": "IPY_MODEL_88c2a841ef654b57899b3b365c46ed1a",
      "placeholder": "​",
      "style": "IPY_MODEL_72743d38b9c64c3e84aba47732d57004",
      "value": " 1.36M/1.36M [00:00&lt;00:00, 41.4MB/s]"
     }
    },
    "4e189d0400544f0796307a3222421fae": {
     "model_module": "@jupyter-widgets/controls",
     "model_module_version": "1.5.0",
     "model_name": "FloatProgressModel",
     "state": {
      "_dom_classes": [],
      "_model_module": "@jupyter-widgets/controls",
      "_model_module_version": "1.5.0",
      "_model_name": "FloatProgressModel",
      "_view_count": null,
      "_view_module": "@jupyter-widgets/controls",
      "_view_module_version": "1.5.0",
      "_view_name": "ProgressView",
      "bar_style": "success",
      "description": "",
      "description_tooltip": null,
      "layout": "IPY_MODEL_a49c986ed3ef4e1e82e2a7c8f02415fa",
      "max": 1042301,
      "min": 0,
      "orientation": "horizontal",
      "style": "IPY_MODEL_44c797b28d504872a975faae9f8e46ac",
      "value": 1042301
     }
    },
    "57e9242e07ce4d12b56c67d1a92e20be": {
     "model_module": "@jupyter-widgets/base",
     "model_module_version": "1.2.0",
     "model_name": "LayoutModel",
     "state": {
      "_model_module": "@jupyter-widgets/base",
      "_model_module_version": "1.2.0",
      "_model_name": "LayoutModel",
      "_view_count": null,
      "_view_module": "@jupyter-widgets/base",
      "_view_module_version": "1.2.0",
      "_view_name": "LayoutView",
      "align_content": null,
      "align_items": null,
      "align_self": null,
      "border": null,
      "bottom": null,
      "display": null,
      "flex": null,
      "flex_flow": null,
      "grid_area": null,
      "grid_auto_columns": null,
      "grid_auto_flow": null,
      "grid_auto_rows": null,
      "grid_column": null,
      "grid_gap": null,
      "grid_row": null,
      "grid_template_areas": null,
      "grid_template_columns": null,
      "grid_template_rows": null,
      "height": null,
      "justify_content": null,
      "justify_items": null,
      "left": null,
      "margin": null,
      "max_height": null,
      "max_width": null,
      "min_height": null,
      "min_width": null,
      "object_fit": null,
      "object_position": null,
      "order": null,
      "overflow": null,
      "overflow_x": null,
      "overflow_y": null,
      "padding": null,
      "right": null,
      "top": null,
      "visibility": null,
      "width": null
     }
    },
    "5c0712b4ffd04adca57a49de7d322ad8": {
     "model_module": "@jupyter-widgets/controls",
     "model_module_version": "1.5.0",
     "model_name": "FloatProgressModel",
     "state": {
      "_dom_classes": [],
      "_model_module": "@jupyter-widgets/controls",
      "_model_module_version": "1.5.0",
      "_model_name": "FloatProgressModel",
      "_view_count": null,
      "_view_module": "@jupyter-widgets/controls",
      "_view_module_version": "1.5.0",
      "_view_name": "ProgressView",
      "bar_style": "success",
      "description": "",
      "description_tooltip": null,
      "layout": "IPY_MODEL_29e078f5489b4dd1b4addee0b0634e95",
      "max": 665,
      "min": 0,
      "orientation": "horizontal",
      "style": "IPY_MODEL_ce5abc8041754125af7a68fb63da9b58",
      "value": 665
     }
    },
    "5fecb3b8674a4cb9a1ea2473f906fc59": {
     "model_module": "@jupyter-widgets/controls",
     "model_module_version": "1.5.0",
     "model_name": "HBoxModel",
     "state": {
      "_dom_classes": [],
      "_model_module": "@jupyter-widgets/controls",
      "_model_module_version": "1.5.0",
      "_model_name": "HBoxModel",
      "_view_count": null,
      "_view_module": "@jupyter-widgets/controls",
      "_view_module_version": "1.5.0",
      "_view_name": "HBoxView",
      "box_style": "",
      "children": [
       "IPY_MODEL_7f79211b3493480d9815fb819edb6589",
       "IPY_MODEL_4e189d0400544f0796307a3222421fae",
       "IPY_MODEL_6bd3c0fcf1844444a38939109273166c"
      ],
      "layout": "IPY_MODEL_2ee6586be85a47c18b7d49b8e07bda83"
     }
    },
    "65435695089f4429bea5a568615b0455": {
     "model_module": "@jupyter-widgets/base",
     "model_module_version": "1.2.0",
     "model_name": "LayoutModel",
     "state": {
      "_model_module": "@jupyter-widgets/base",
      "_model_module_version": "1.2.0",
      "_model_name": "LayoutModel",
      "_view_count": null,
      "_view_module": "@jupyter-widgets/base",
      "_view_module_version": "1.2.0",
      "_view_name": "LayoutView",
      "align_content": null,
      "align_items": null,
      "align_self": null,
      "border": null,
      "bottom": null,
      "display": null,
      "flex": null,
      "flex_flow": null,
      "grid_area": null,
      "grid_auto_columns": null,
      "grid_auto_flow": null,
      "grid_auto_rows": null,
      "grid_column": null,
      "grid_gap": null,
      "grid_row": null,
      "grid_template_areas": null,
      "grid_template_columns": null,
      "grid_template_rows": null,
      "height": null,
      "justify_content": null,
      "justify_items": null,
      "left": null,
      "margin": null,
      "max_height": null,
      "max_width": null,
      "min_height": null,
      "min_width": null,
      "object_fit": null,
      "object_position": null,
      "order": null,
      "overflow": null,
      "overflow_x": null,
      "overflow_y": null,
      "padding": null,
      "right": null,
      "top": null,
      "visibility": null,
      "width": null
     }
    },
    "65efa3c5f6a947f5a4c5bf8659142343": {
     "model_module": "@jupyter-widgets/base",
     "model_module_version": "1.2.0",
     "model_name": "LayoutModel",
     "state": {
      "_model_module": "@jupyter-widgets/base",
      "_model_module_version": "1.2.0",
      "_model_name": "LayoutModel",
      "_view_count": null,
      "_view_module": "@jupyter-widgets/base",
      "_view_module_version": "1.2.0",
      "_view_name": "LayoutView",
      "align_content": null,
      "align_items": null,
      "align_self": null,
      "border": null,
      "bottom": null,
      "display": null,
      "flex": null,
      "flex_flow": null,
      "grid_area": null,
      "grid_auto_columns": null,
      "grid_auto_flow": null,
      "grid_auto_rows": null,
      "grid_column": null,
      "grid_gap": null,
      "grid_row": null,
      "grid_template_areas": null,
      "grid_template_columns": null,
      "grid_template_rows": null,
      "height": null,
      "justify_content": null,
      "justify_items": null,
      "left": null,
      "margin": null,
      "max_height": null,
      "max_width": null,
      "min_height": null,
      "min_width": null,
      "object_fit": null,
      "object_position": null,
      "order": null,
      "overflow": null,
      "overflow_x": null,
      "overflow_y": null,
      "padding": null,
      "right": null,
      "top": null,
      "visibility": null,
      "width": null
     }
    },
    "68630bc61a664e57bbfb69be41e568f0": {
     "model_module": "@jupyter-widgets/base",
     "model_module_version": "1.2.0",
     "model_name": "LayoutModel",
     "state": {
      "_model_module": "@jupyter-widgets/base",
      "_model_module_version": "1.2.0",
      "_model_name": "LayoutModel",
      "_view_count": null,
      "_view_module": "@jupyter-widgets/base",
      "_view_module_version": "1.2.0",
      "_view_name": "LayoutView",
      "align_content": null,
      "align_items": null,
      "align_self": null,
      "border": null,
      "bottom": null,
      "display": null,
      "flex": null,
      "flex_flow": null,
      "grid_area": null,
      "grid_auto_columns": null,
      "grid_auto_flow": null,
      "grid_auto_rows": null,
      "grid_column": null,
      "grid_gap": null,
      "grid_row": null,
      "grid_template_areas": null,
      "grid_template_columns": null,
      "grid_template_rows": null,
      "height": null,
      "justify_content": null,
      "justify_items": null,
      "left": null,
      "margin": null,
      "max_height": null,
      "max_width": null,
      "min_height": null,
      "min_width": null,
      "object_fit": null,
      "object_position": null,
      "order": null,
      "overflow": null,
      "overflow_x": null,
      "overflow_y": null,
      "padding": null,
      "right": null,
      "top": null,
      "visibility": null,
      "width": null
     }
    },
    "6bd3c0fcf1844444a38939109273166c": {
     "model_module": "@jupyter-widgets/controls",
     "model_module_version": "1.5.0",
     "model_name": "HTMLModel",
     "state": {
      "_dom_classes": [],
      "_model_module": "@jupyter-widgets/controls",
      "_model_module_version": "1.5.0",
      "_model_name": "HTMLModel",
      "_view_count": null,
      "_view_module": "@jupyter-widgets/controls",
      "_view_module_version": "1.5.0",
      "_view_name": "HTMLView",
      "description": "",
      "description_tooltip": null,
      "layout": "IPY_MODEL_92612092834944438ffc81505aa595e7",
      "placeholder": "​",
      "style": "IPY_MODEL_a6b1df8064d448f7b10d164f020c3ea2",
      "value": " 1.04M/1.04M [00:00&lt;00:00, 39.8MB/s]"
     }
    },
    "6ce9f6c6357f4687abe5903d0ba0384f": {
     "model_module": "@jupyter-widgets/controls",
     "model_module_version": "1.5.0",
     "model_name": "ProgressStyleModel",
     "state": {
      "_model_module": "@jupyter-widgets/controls",
      "_model_module_version": "1.5.0",
      "_model_name": "ProgressStyleModel",
      "_view_count": null,
      "_view_module": "@jupyter-widgets/base",
      "_view_module_version": "1.2.0",
      "_view_name": "StyleView",
      "bar_color": null,
      "description_width": ""
     }
    },
    "71d956543985421b9350e385e231ebbc": {
     "model_module": "@jupyter-widgets/base",
     "model_module_version": "1.2.0",
     "model_name": "LayoutModel",
     "state": {
      "_model_module": "@jupyter-widgets/base",
      "_model_module_version": "1.2.0",
      "_model_name": "LayoutModel",
      "_view_count": null,
      "_view_module": "@jupyter-widgets/base",
      "_view_module_version": "1.2.0",
      "_view_name": "LayoutView",
      "align_content": null,
      "align_items": null,
      "align_self": null,
      "border": null,
      "bottom": null,
      "display": null,
      "flex": null,
      "flex_flow": null,
      "grid_area": null,
      "grid_auto_columns": null,
      "grid_auto_flow": null,
      "grid_auto_rows": null,
      "grid_column": null,
      "grid_gap": null,
      "grid_row": null,
      "grid_template_areas": null,
      "grid_template_columns": null,
      "grid_template_rows": null,
      "height": null,
      "justify_content": null,
      "justify_items": null,
      "left": null,
      "margin": null,
      "max_height": null,
      "max_width": null,
      "min_height": null,
      "min_width": null,
      "object_fit": null,
      "object_position": null,
      "order": null,
      "overflow": null,
      "overflow_x": null,
      "overflow_y": null,
      "padding": null,
      "right": null,
      "top": null,
      "visibility": null,
      "width": null
     }
    },
    "72743d38b9c64c3e84aba47732d57004": {
     "model_module": "@jupyter-widgets/controls",
     "model_module_version": "1.5.0",
     "model_name": "DescriptionStyleModel",
     "state": {
      "_model_module": "@jupyter-widgets/controls",
      "_model_module_version": "1.5.0",
      "_model_name": "DescriptionStyleModel",
      "_view_count": null,
      "_view_module": "@jupyter-widgets/base",
      "_view_module_version": "1.2.0",
      "_view_name": "StyleView",
      "description_width": ""
     }
    },
    "7e2d9aa7a5f046d38e023b22ad2d84e7": {
     "model_module": "@jupyter-widgets/controls",
     "model_module_version": "1.5.0",
     "model_name": "DescriptionStyleModel",
     "state": {
      "_model_module": "@jupyter-widgets/controls",
      "_model_module_version": "1.5.0",
      "_model_name": "DescriptionStyleModel",
      "_view_count": null,
      "_view_module": "@jupyter-widgets/base",
      "_view_module_version": "1.2.0",
      "_view_name": "StyleView",
      "description_width": ""
     }
    },
    "7f79211b3493480d9815fb819edb6589": {
     "model_module": "@jupyter-widgets/controls",
     "model_module_version": "1.5.0",
     "model_name": "HTMLModel",
     "state": {
      "_dom_classes": [],
      "_model_module": "@jupyter-widgets/controls",
      "_model_module_version": "1.5.0",
      "_model_name": "HTMLModel",
      "_view_count": null,
      "_view_module": "@jupyter-widgets/controls",
      "_view_module_version": "1.5.0",
      "_view_name": "HTMLView",
      "description": "",
      "description_tooltip": null,
      "layout": "IPY_MODEL_c0179f91652d48f18ff6fcc95d537082",
      "placeholder": "​",
      "style": "IPY_MODEL_ef68e6f9a01349ceb6a842468c0e1a35",
      "value": "Downloading (…)olve/main/vocab.json: 100%"
     }
    },
    "88c2a841ef654b57899b3b365c46ed1a": {
     "model_module": "@jupyter-widgets/base",
     "model_module_version": "1.2.0",
     "model_name": "LayoutModel",
     "state": {
      "_model_module": "@jupyter-widgets/base",
      "_model_module_version": "1.2.0",
      "_model_name": "LayoutModel",
      "_view_count": null,
      "_view_module": "@jupyter-widgets/base",
      "_view_module_version": "1.2.0",
      "_view_name": "LayoutView",
      "align_content": null,
      "align_items": null,
      "align_self": null,
      "border": null,
      "bottom": null,
      "display": null,
      "flex": null,
      "flex_flow": null,
      "grid_area": null,
      "grid_auto_columns": null,
      "grid_auto_flow": null,
      "grid_auto_rows": null,
      "grid_column": null,
      "grid_gap": null,
      "grid_row": null,
      "grid_template_areas": null,
      "grid_template_columns": null,
      "grid_template_rows": null,
      "height": null,
      "justify_content": null,
      "justify_items": null,
      "left": null,
      "margin": null,
      "max_height": null,
      "max_width": null,
      "min_height": null,
      "min_width": null,
      "object_fit": null,
      "object_position": null,
      "order": null,
      "overflow": null,
      "overflow_x": null,
      "overflow_y": null,
      "padding": null,
      "right": null,
      "top": null,
      "visibility": null,
      "width": null
     }
    },
    "92612092834944438ffc81505aa595e7": {
     "model_module": "@jupyter-widgets/base",
     "model_module_version": "1.2.0",
     "model_name": "LayoutModel",
     "state": {
      "_model_module": "@jupyter-widgets/base",
      "_model_module_version": "1.2.0",
      "_model_name": "LayoutModel",
      "_view_count": null,
      "_view_module": "@jupyter-widgets/base",
      "_view_module_version": "1.2.0",
      "_view_name": "LayoutView",
      "align_content": null,
      "align_items": null,
      "align_self": null,
      "border": null,
      "bottom": null,
      "display": null,
      "flex": null,
      "flex_flow": null,
      "grid_area": null,
      "grid_auto_columns": null,
      "grid_auto_flow": null,
      "grid_auto_rows": null,
      "grid_column": null,
      "grid_gap": null,
      "grid_row": null,
      "grid_template_areas": null,
      "grid_template_columns": null,
      "grid_template_rows": null,
      "height": null,
      "justify_content": null,
      "justify_items": null,
      "left": null,
      "margin": null,
      "max_height": null,
      "max_width": null,
      "min_height": null,
      "min_width": null,
      "object_fit": null,
      "object_position": null,
      "order": null,
      "overflow": null,
      "overflow_x": null,
      "overflow_y": null,
      "padding": null,
      "right": null,
      "top": null,
      "visibility": null,
      "width": null
     }
    },
    "938494f555024c5fbc8d428ca0ac7bb7": {
     "model_module": "@jupyter-widgets/base",
     "model_module_version": "1.2.0",
     "model_name": "LayoutModel",
     "state": {
      "_model_module": "@jupyter-widgets/base",
      "_model_module_version": "1.2.0",
      "_model_name": "LayoutModel",
      "_view_count": null,
      "_view_module": "@jupyter-widgets/base",
      "_view_module_version": "1.2.0",
      "_view_name": "LayoutView",
      "align_content": null,
      "align_items": null,
      "align_self": null,
      "border": null,
      "bottom": null,
      "display": null,
      "flex": null,
      "flex_flow": null,
      "grid_area": null,
      "grid_auto_columns": null,
      "grid_auto_flow": null,
      "grid_auto_rows": null,
      "grid_column": null,
      "grid_gap": null,
      "grid_row": null,
      "grid_template_areas": null,
      "grid_template_columns": null,
      "grid_template_rows": null,
      "height": null,
      "justify_content": null,
      "justify_items": null,
      "left": null,
      "margin": null,
      "max_height": null,
      "max_width": null,
      "min_height": null,
      "min_width": null,
      "object_fit": null,
      "object_position": null,
      "order": null,
      "overflow": null,
      "overflow_x": null,
      "overflow_y": null,
      "padding": null,
      "right": null,
      "top": null,
      "visibility": null,
      "width": null
     }
    },
    "9b22bee16f7f41de8dd178095ba028fb": {
     "model_module": "@jupyter-widgets/base",
     "model_module_version": "1.2.0",
     "model_name": "LayoutModel",
     "state": {
      "_model_module": "@jupyter-widgets/base",
      "_model_module_version": "1.2.0",
      "_model_name": "LayoutModel",
      "_view_count": null,
      "_view_module": "@jupyter-widgets/base",
      "_view_module_version": "1.2.0",
      "_view_name": "LayoutView",
      "align_content": null,
      "align_items": null,
      "align_self": null,
      "border": null,
      "bottom": null,
      "display": null,
      "flex": null,
      "flex_flow": null,
      "grid_area": null,
      "grid_auto_columns": null,
      "grid_auto_flow": null,
      "grid_auto_rows": null,
      "grid_column": null,
      "grid_gap": null,
      "grid_row": null,
      "grid_template_areas": null,
      "grid_template_columns": null,
      "grid_template_rows": null,
      "height": null,
      "justify_content": null,
      "justify_items": null,
      "left": null,
      "margin": null,
      "max_height": null,
      "max_width": null,
      "min_height": null,
      "min_width": null,
      "object_fit": null,
      "object_position": null,
      "order": null,
      "overflow": null,
      "overflow_x": null,
      "overflow_y": null,
      "padding": null,
      "right": null,
      "top": null,
      "visibility": null,
      "width": null
     }
    },
    "9b82fd0b006a42f9ae63acb3754d28d9": {
     "model_module": "@jupyter-widgets/controls",
     "model_module_version": "1.5.0",
     "model_name": "HBoxModel",
     "state": {
      "_dom_classes": [],
      "_model_module": "@jupyter-widgets/controls",
      "_model_module_version": "1.5.0",
      "_model_name": "HBoxModel",
      "_view_count": null,
      "_view_module": "@jupyter-widgets/controls",
      "_view_module_version": "1.5.0",
      "_view_name": "HBoxView",
      "box_style": "",
      "children": [
       "IPY_MODEL_2b0127af8cec47a4bbff858f4be7af6e",
       "IPY_MODEL_d09135783eeb4ba6a4edd8035a608246",
       "IPY_MODEL_dc430483a2ea49c199a21d5f425dd8e7"
      ],
      "layout": "IPY_MODEL_68630bc61a664e57bbfb69be41e568f0"
     }
    },
    "9d0d20228be54102bd50b38fac588aaa": {
     "model_module": "@jupyter-widgets/controls",
     "model_module_version": "1.5.0",
     "model_name": "HBoxModel",
     "state": {
      "_dom_classes": [],
      "_model_module": "@jupyter-widgets/controls",
      "_model_module_version": "1.5.0",
      "_model_name": "HBoxModel",
      "_view_count": null,
      "_view_module": "@jupyter-widgets/controls",
      "_view_module_version": "1.5.0",
      "_view_name": "HBoxView",
      "box_style": "",
      "children": [
       "IPY_MODEL_25ddcbbd77b44422a479e72040f9878c",
       "IPY_MODEL_13539adc604e48e3aefd01374a4bb3f7",
       "IPY_MODEL_4d102f14c061484abb596d48480037f7"
      ],
      "layout": "IPY_MODEL_65435695089f4429bea5a568615b0455"
     }
    },
    "9d501b2fadb347699749531b0bfceac5": {
     "model_module": "@jupyter-widgets/controls",
     "model_module_version": "1.5.0",
     "model_name": "HTMLModel",
     "state": {
      "_dom_classes": [],
      "_model_module": "@jupyter-widgets/controls",
      "_model_module_version": "1.5.0",
      "_model_name": "HTMLModel",
      "_view_count": null,
      "_view_module": "@jupyter-widgets/controls",
      "_view_module_version": "1.5.0",
      "_view_name": "HTMLView",
      "description": "",
      "description_tooltip": null,
      "layout": "IPY_MODEL_65efa3c5f6a947f5a4c5bf8659142343",
      "placeholder": "​",
      "style": "IPY_MODEL_b9bd15c8e0984a52890bbfad1190fa13",
      "value": " 0/1 [00:00&lt;?, ?it/s]"
     }
    },
    "a49c986ed3ef4e1e82e2a7c8f02415fa": {
     "model_module": "@jupyter-widgets/base",
     "model_module_version": "1.2.0",
     "model_name": "LayoutModel",
     "state": {
      "_model_module": "@jupyter-widgets/base",
      "_model_module_version": "1.2.0",
      "_model_name": "LayoutModel",
      "_view_count": null,
      "_view_module": "@jupyter-widgets/base",
      "_view_module_version": "1.2.0",
      "_view_name": "LayoutView",
      "align_content": null,
      "align_items": null,
      "align_self": null,
      "border": null,
      "bottom": null,
      "display": null,
      "flex": null,
      "flex_flow": null,
      "grid_area": null,
      "grid_auto_columns": null,
      "grid_auto_flow": null,
      "grid_auto_rows": null,
      "grid_column": null,
      "grid_gap": null,
      "grid_row": null,
      "grid_template_areas": null,
      "grid_template_columns": null,
      "grid_template_rows": null,
      "height": null,
      "justify_content": null,
      "justify_items": null,
      "left": null,
      "margin": null,
      "max_height": null,
      "max_width": null,
      "min_height": null,
      "min_width": null,
      "object_fit": null,
      "object_position": null,
      "order": null,
      "overflow": null,
      "overflow_x": null,
      "overflow_y": null,
      "padding": null,
      "right": null,
      "top": null,
      "visibility": null,
      "width": null
     }
    },
    "a6b1df8064d448f7b10d164f020c3ea2": {
     "model_module": "@jupyter-widgets/controls",
     "model_module_version": "1.5.0",
     "model_name": "DescriptionStyleModel",
     "state": {
      "_model_module": "@jupyter-widgets/controls",
      "_model_module_version": "1.5.0",
      "_model_name": "DescriptionStyleModel",
      "_view_count": null,
      "_view_module": "@jupyter-widgets/base",
      "_view_module_version": "1.2.0",
      "_view_name": "StyleView",
      "description_width": ""
     }
    },
    "af67fac1424a48058e9c3ec583f180db": {
     "model_module": "@jupyter-widgets/controls",
     "model_module_version": "1.5.0",
     "model_name": "FloatProgressModel",
     "state": {
      "_dom_classes": [],
      "_model_module": "@jupyter-widgets/controls",
      "_model_module_version": "1.5.0",
      "_model_name": "FloatProgressModel",
      "_view_count": null,
      "_view_module": "@jupyter-widgets/controls",
      "_view_module_version": "1.5.0",
      "_view_name": "ProgressView",
      "bar_style": "",
      "description": "",
      "description_tooltip": null,
      "layout": "IPY_MODEL_b4c1ad9d4451403181b7c85c8bb5cc7d",
      "max": 1,
      "min": 0,
      "orientation": "horizontal",
      "style": "IPY_MODEL_24afca2d0daf4be1b713b5a6722c051d",
      "value": 0
     }
    },
    "b4c1ad9d4451403181b7c85c8bb5cc7d": {
     "model_module": "@jupyter-widgets/base",
     "model_module_version": "1.2.0",
     "model_name": "LayoutModel",
     "state": {
      "_model_module": "@jupyter-widgets/base",
      "_model_module_version": "1.2.0",
      "_model_name": "LayoutModel",
      "_view_count": null,
      "_view_module": "@jupyter-widgets/base",
      "_view_module_version": "1.2.0",
      "_view_name": "LayoutView",
      "align_content": null,
      "align_items": null,
      "align_self": null,
      "border": null,
      "bottom": null,
      "display": null,
      "flex": "2",
      "flex_flow": null,
      "grid_area": null,
      "grid_auto_columns": null,
      "grid_auto_flow": null,
      "grid_auto_rows": null,
      "grid_column": null,
      "grid_gap": null,
      "grid_row": null,
      "grid_template_areas": null,
      "grid_template_columns": null,
      "grid_template_rows": null,
      "height": null,
      "justify_content": null,
      "justify_items": null,
      "left": null,
      "margin": null,
      "max_height": null,
      "max_width": null,
      "min_height": null,
      "min_width": null,
      "object_fit": null,
      "object_position": null,
      "order": null,
      "overflow": null,
      "overflow_x": null,
      "overflow_y": null,
      "padding": null,
      "right": null,
      "top": null,
      "visibility": null,
      "width": null
     }
    },
    "b9bd15c8e0984a52890bbfad1190fa13": {
     "model_module": "@jupyter-widgets/controls",
     "model_module_version": "1.5.0",
     "model_name": "DescriptionStyleModel",
     "state": {
      "_model_module": "@jupyter-widgets/controls",
      "_model_module_version": "1.5.0",
      "_model_name": "DescriptionStyleModel",
      "_view_count": null,
      "_view_module": "@jupyter-widgets/base",
      "_view_module_version": "1.2.0",
      "_view_name": "StyleView",
      "description_width": ""
     }
    },
    "ba1e3fc9f77141a6a4d83e118a6e6bd7": {
     "model_module": "@jupyter-widgets/controls",
     "model_module_version": "1.5.0",
     "model_name": "DescriptionStyleModel",
     "state": {
      "_model_module": "@jupyter-widgets/controls",
      "_model_module_version": "1.5.0",
      "_model_name": "DescriptionStyleModel",
      "_view_count": null,
      "_view_module": "@jupyter-widgets/base",
      "_view_module_version": "1.2.0",
      "_view_name": "StyleView",
      "description_width": ""
     }
    },
    "bf43d5c1965848e7ae6e02035f497779": {
     "model_module": "@jupyter-widgets/controls",
     "model_module_version": "1.5.0",
     "model_name": "DescriptionStyleModel",
     "state": {
      "_model_module": "@jupyter-widgets/controls",
      "_model_module_version": "1.5.0",
      "_model_name": "DescriptionStyleModel",
      "_view_count": null,
      "_view_module": "@jupyter-widgets/base",
      "_view_module_version": "1.2.0",
      "_view_name": "StyleView",
      "description_width": ""
     }
    },
    "c0179f91652d48f18ff6fcc95d537082": {
     "model_module": "@jupyter-widgets/base",
     "model_module_version": "1.2.0",
     "model_name": "LayoutModel",
     "state": {
      "_model_module": "@jupyter-widgets/base",
      "_model_module_version": "1.2.0",
      "_model_name": "LayoutModel",
      "_view_count": null,
      "_view_module": "@jupyter-widgets/base",
      "_view_module_version": "1.2.0",
      "_view_name": "LayoutView",
      "align_content": null,
      "align_items": null,
      "align_self": null,
      "border": null,
      "bottom": null,
      "display": null,
      "flex": null,
      "flex_flow": null,
      "grid_area": null,
      "grid_auto_columns": null,
      "grid_auto_flow": null,
      "grid_auto_rows": null,
      "grid_column": null,
      "grid_gap": null,
      "grid_row": null,
      "grid_template_areas": null,
      "grid_template_columns": null,
      "grid_template_rows": null,
      "height": null,
      "justify_content": null,
      "justify_items": null,
      "left": null,
      "margin": null,
      "max_height": null,
      "max_width": null,
      "min_height": null,
      "min_width": null,
      "object_fit": null,
      "object_position": null,
      "order": null,
      "overflow": null,
      "overflow_x": null,
      "overflow_y": null,
      "padding": null,
      "right": null,
      "top": null,
      "visibility": null,
      "width": null
     }
    },
    "c17a16fdd5e040959feb1039446188e3": {
     "model_module": "@jupyter-widgets/base",
     "model_module_version": "1.2.0",
     "model_name": "LayoutModel",
     "state": {
      "_model_module": "@jupyter-widgets/base",
      "_model_module_version": "1.2.0",
      "_model_name": "LayoutModel",
      "_view_count": null,
      "_view_module": "@jupyter-widgets/base",
      "_view_module_version": "1.2.0",
      "_view_name": "LayoutView",
      "align_content": null,
      "align_items": null,
      "align_self": null,
      "border": null,
      "bottom": null,
      "display": null,
      "flex": null,
      "flex_flow": null,
      "grid_area": null,
      "grid_auto_columns": null,
      "grid_auto_flow": null,
      "grid_auto_rows": null,
      "grid_column": null,
      "grid_gap": null,
      "grid_row": null,
      "grid_template_areas": null,
      "grid_template_columns": null,
      "grid_template_rows": null,
      "height": null,
      "justify_content": null,
      "justify_items": null,
      "left": null,
      "margin": null,
      "max_height": null,
      "max_width": null,
      "min_height": null,
      "min_width": null,
      "object_fit": null,
      "object_position": null,
      "order": null,
      "overflow": null,
      "overflow_x": null,
      "overflow_y": null,
      "padding": null,
      "right": null,
      "top": null,
      "visibility": null,
      "width": null
     }
    },
    "ce5abc8041754125af7a68fb63da9b58": {
     "model_module": "@jupyter-widgets/controls",
     "model_module_version": "1.5.0",
     "model_name": "ProgressStyleModel",
     "state": {
      "_model_module": "@jupyter-widgets/controls",
      "_model_module_version": "1.5.0",
      "_model_name": "ProgressStyleModel",
      "_view_count": null,
      "_view_module": "@jupyter-widgets/base",
      "_view_module_version": "1.2.0",
      "_view_name": "StyleView",
      "bar_color": null,
      "description_width": ""
     }
    },
    "d09135783eeb4ba6a4edd8035a608246": {
     "model_module": "@jupyter-widgets/controls",
     "model_module_version": "1.5.0",
     "model_name": "FloatProgressModel",
     "state": {
      "_dom_classes": [],
      "_model_module": "@jupyter-widgets/controls",
      "_model_module_version": "1.5.0",
      "_model_name": "FloatProgressModel",
      "_view_count": null,
      "_view_module": "@jupyter-widgets/controls",
      "_view_module_version": "1.5.0",
      "_view_name": "ProgressView",
      "bar_style": "success",
      "description": "",
      "description_tooltip": null,
      "layout": "IPY_MODEL_c17a16fdd5e040959feb1039446188e3",
      "max": 456318,
      "min": 0,
      "orientation": "horizontal",
      "style": "IPY_MODEL_6ce9f6c6357f4687abe5903d0ba0384f",
      "value": 456318
     }
    },
    "dc430483a2ea49c199a21d5f425dd8e7": {
     "model_module": "@jupyter-widgets/controls",
     "model_module_version": "1.5.0",
     "model_name": "HTMLModel",
     "state": {
      "_dom_classes": [],
      "_model_module": "@jupyter-widgets/controls",
      "_model_module_version": "1.5.0",
      "_model_name": "HTMLModel",
      "_view_count": null,
      "_view_module": "@jupyter-widgets/controls",
      "_view_module_version": "1.5.0",
      "_view_name": "HTMLView",
      "description": "",
      "description_tooltip": null,
      "layout": "IPY_MODEL_938494f555024c5fbc8d428ca0ac7bb7",
      "placeholder": "​",
      "style": "IPY_MODEL_bf43d5c1965848e7ae6e02035f497779",
      "value": " 456k/456k [00:00&lt;00:00, 17.7MB/s]"
     }
    },
    "ef68e6f9a01349ceb6a842468c0e1a35": {
     "model_module": "@jupyter-widgets/controls",
     "model_module_version": "1.5.0",
     "model_name": "DescriptionStyleModel",
     "state": {
      "_model_module": "@jupyter-widgets/controls",
      "_model_module_version": "1.5.0",
      "_model_name": "DescriptionStyleModel",
      "_view_count": null,
      "_view_module": "@jupyter-widgets/base",
      "_view_module_version": "1.2.0",
      "_view_name": "StyleView",
      "description_width": ""
     }
    },
    "efc126bf278c46ffbbfaa5978a58f70f": {
     "model_module": "@jupyter-widgets/controls",
     "model_module_version": "1.5.0",
     "model_name": "DescriptionStyleModel",
     "state": {
      "_model_module": "@jupyter-widgets/controls",
      "_model_module_version": "1.5.0",
      "_model_name": "DescriptionStyleModel",
      "_view_count": null,
      "_view_module": "@jupyter-widgets/base",
      "_view_module_version": "1.2.0",
      "_view_name": "StyleView",
      "description_width": ""
     }
    },
    "effdfe85fb2e4038bd517718fdeb8e43": {
     "model_module": "@jupyter-widgets/controls",
     "model_module_version": "1.5.0",
     "model_name": "HTMLModel",
     "state": {
      "_dom_classes": [],
      "_model_module": "@jupyter-widgets/controls",
      "_model_module_version": "1.5.0",
      "_model_name": "HTMLModel",
      "_view_count": null,
      "_view_module": "@jupyter-widgets/controls",
      "_view_module_version": "1.5.0",
      "_view_name": "HTMLView",
      "description": "",
      "description_tooltip": null,
      "layout": "IPY_MODEL_017369117d5c459c82336d2d506c96a8",
      "placeholder": "​",
      "style": "IPY_MODEL_49b724fb2d4d43c5835c520e4eb26865",
      "value": " 665/665 [00:00&lt;00:00, 39.6kB/s]"
     }
    },
    "f2242ce8ac7a45b1a5c93f760484bc55": {
     "model_module": "@jupyter-widgets/base",
     "model_module_version": "1.2.0",
     "model_name": "LayoutModel",
     "state": {
      "_model_module": "@jupyter-widgets/base",
      "_model_module_version": "1.2.0",
      "_model_name": "LayoutModel",
      "_view_count": null,
      "_view_module": "@jupyter-widgets/base",
      "_view_module_version": "1.2.0",
      "_view_name": "LayoutView",
      "align_content": null,
      "align_items": null,
      "align_self": null,
      "border": null,
      "bottom": null,
      "display": null,
      "flex": null,
      "flex_flow": null,
      "grid_area": null,
      "grid_auto_columns": null,
      "grid_auto_flow": null,
      "grid_auto_rows": null,
      "grid_column": null,
      "grid_gap": null,
      "grid_row": null,
      "grid_template_areas": null,
      "grid_template_columns": null,
      "grid_template_rows": null,
      "height": null,
      "justify_content": null,
      "justify_items": null,
      "left": null,
      "margin": null,
      "max_height": null,
      "max_width": null,
      "min_height": null,
      "min_width": null,
      "object_fit": null,
      "object_position": null,
      "order": null,
      "overflow": null,
      "overflow_x": null,
      "overflow_y": null,
      "padding": null,
      "right": null,
      "top": null,
      "visibility": null,
      "width": null
     }
    },
    "f4614692041b4814909dbefbbbdb509e": {
     "model_module": "@jupyter-widgets/controls",
     "model_module_version": "1.5.0",
     "model_name": "HBoxModel",
     "state": {
      "_dom_classes": [],
      "_model_module": "@jupyter-widgets/controls",
      "_model_module_version": "1.5.0",
      "_model_name": "HBoxModel",
      "_view_count": null,
      "_view_module": "@jupyter-widgets/controls",
      "_view_module_version": "1.5.0",
      "_view_name": "HBoxView",
      "box_style": "",
      "children": [
       "IPY_MODEL_4106ed711f314862bb3ee00e08c7b16c",
       "IPY_MODEL_5c0712b4ffd04adca57a49de7d322ad8",
       "IPY_MODEL_effdfe85fb2e4038bd517718fdeb8e43"
      ],
      "layout": "IPY_MODEL_71d956543985421b9350e385e231ebbc"
     }
    },
    "f90f3ca7029a45b9b89a47cb2b988764": {
     "model_module": "@jupyter-widgets/base",
     "model_module_version": "1.2.0",
     "model_name": "LayoutModel",
     "state": {
      "_model_module": "@jupyter-widgets/base",
      "_model_module_version": "1.2.0",
      "_model_name": "LayoutModel",
      "_view_count": null,
      "_view_module": "@jupyter-widgets/base",
      "_view_module_version": "1.2.0",
      "_view_name": "LayoutView",
      "align_content": null,
      "align_items": null,
      "align_self": null,
      "border": null,
      "bottom": null,
      "display": null,
      "flex": null,
      "flex_flow": null,
      "grid_area": null,
      "grid_auto_columns": null,
      "grid_auto_flow": null,
      "grid_auto_rows": null,
      "grid_column": null,
      "grid_gap": null,
      "grid_row": null,
      "grid_template_areas": null,
      "grid_template_columns": null,
      "grid_template_rows": null,
      "height": null,
      "justify_content": null,
      "justify_items": null,
      "left": null,
      "margin": null,
      "max_height": null,
      "max_width": null,
      "min_height": null,
      "min_width": null,
      "object_fit": null,
      "object_position": null,
      "order": null,
      "overflow": null,
      "overflow_x": null,
      "overflow_y": null,
      "padding": null,
      "right": null,
      "top": null,
      "visibility": null,
      "width": null
     }
    }
   }
  }
 },
 "nbformat": 4,
 "nbformat_minor": 1
}
